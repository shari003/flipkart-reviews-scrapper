{
 "cells": [
  {
   "cell_type": "code",
   "execution_count": 1,
   "id": "51a0fb00-2c49-4242-838e-6a8e01d98fe6",
   "metadata": {},
   "outputs": [],
   "source": [
    "from bs4 import BeautifulSoup as bs\n",
    "import requests\n",
    "from urllib.parse import urljoin\n",
    "import re\n",
    "import pandas as pd"
   ]
  },
  {
   "cell_type": "code",
   "execution_count": 2,
   "id": "bf636a9c-e4e7-4115-9cb4-0268c3acc6d9",
   "metadata": {},
   "outputs": [],
   "source": [
    "BASE_URL = 'https://www.amazon.in'"
   ]
  },
  {
   "cell_type": "code",
   "execution_count": 3,
   "id": "dca95984-2004-43af-93d9-23b138f11c69",
   "metadata": {},
   "outputs": [],
   "source": [
    "def create_url():\n",
    "    search_param = input('Enter any product : ')\n",
    "    # /search?q=oppo+earbuds\n",
    "    search_param = search_param.replace(\" \", \"+\")\n",
    "\n",
    "    search_param = f'/s?k={search_param}'\n",
    "\n",
    "    PRODUCTS_URL = urljoin(BASE_URL, search_param)\n",
    "    \n",
    "    return PRODUCTS_URL"
   ]
  },
  {
   "cell_type": "code",
   "execution_count": 7,
   "id": "984b1745-70d2-4ae1-aca4-a91eaa497f9f",
   "metadata": {
    "tags": []
   },
   "outputs": [
    {
     "name": "stdin",
     "output_type": "stream",
     "text": [
      "Enter any product :  headphone\n"
     ]
    },
    {
     "name": "stdout",
     "output_type": "stream",
     "text": [
      "[]\n"
     ]
    }
   ],
   "source": [
    "# anchor tag --> a-link-normal s-underline-text s-underline-link-text s-link-style a-text-normal\n",
    "headers = {'User-Agent': 'Mozilla/5.0 (Windows NT 10.0; Win64; x64) AppleWebKit/537.36 (KHTML, like Gecko) Chrome/114.0.0.0 Safari/537.36'}\n",
    "PRODUCTS_URL = create_url()\n",
    "req = requests.get(PRODUCTS_URL, headers=headers)\n",
    "soup = bs(req.content, 'html.parser')\n",
    "\n",
    "products = soup.find_all('a', {'class': \"a-link-normal s-underline-text s-underline-link-text s-link-style a-text-normal\"})\n",
    "href_list = [link['href'] for link in products]\n",
    "print(href_list)"
   ]
  },
  {
   "cell_type": "code",
   "execution_count": null,
   "id": "22d9eb96-7a29-4738-8935-e97c1173509f",
   "metadata": {},
   "outputs": [],
   "source": [
    "def get_data(req):\n",
    "    soup = bs(req.content, 'html.parser')\n",
    "    ratings = review_page_soup.find_all('span', {'class': 'a-icon-alt'})\n",
    "    reviews = review_page_soup.find_all('span', {'data-hook': 'review-body'})\n",
    "    \n",
    "    for i in range(len(ratings)):\n",
    "        ratings[i] = ratings[i].text.split('.')[0]\n",
    "        \n",
    "    for i in range(len(reviews)):\n",
    "        reviews[i] = re.sub(r'\\s+', ' ', reviews[i].text.strip())\n",
    "        \n",
    "    return ratings[5:], reviews"
   ]
  },
  {
   "cell_type": "code",
   "execution_count": null,
   "id": "3051fd7d-23f2-4de0-a112-d35fb3b1d4a1",
   "metadata": {},
   "outputs": [],
   "source": [
    "PRODUCTS_URL = create_url()"
   ]
  },
  {
   "cell_type": "code",
   "execution_count": null,
   "id": "64006915-382b-4f08-a854-35479ceb3d49",
   "metadata": {},
   "outputs": [],
   "source": [
    "# use for loop here change href_list[0] with [i]\n",
    "\n",
    "PRODUCT_URL = urljoin(BASE_URL, href_list[0])\n",
    "product_req = requests.get(PRODUCT_URL)"
   ]
  },
  {
   "cell_type": "code",
   "execution_count": null,
   "id": "096c486f-51c3-4add-a3ce-acd7d4e24e5f",
   "metadata": {},
   "outputs": [],
   "source": [
    "product_soup = bs(product_req.content, 'html.parser')\n",
    "\n",
    "# detail of product --> title & description\n",
    "product_title = product_soup.find('span', {'id': 'productTitle'}).text\n",
    "product_title = product_title.strip()"
   ]
  },
  {
   "cell_type": "code",
   "execution_count": null,
   "id": "002acb68-c56d-4aaa-80a7-a2c08c33f42d",
   "metadata": {},
   "outputs": [],
   "source": [
    "# data-hook --> see-all-reviews-link-foot (on root page)\n",
    "is_reviewBtn_present = product_soup.find('a', {'data-hook': 'see-all-reviews-link-foot'})\n",
    "\n",
    "if is_reviewBtn_present is None:\n",
    "    pass\n",
    "else:\n",
    "    PRODUCT_REVIEW_URL = urljoin(BASE_URL, is_reviewBtn_present['href'])\n",
    "    PRODUCT_REVIEW_URL = PRODUCT_REVIEW_URL+'&pageNumber=1'"
   ]
  },
  {
   "cell_type": "code",
   "execution_count": null,
   "id": "b3659d5e-2747-4cbb-91b3-c12a6522d74c",
   "metadata": {},
   "outputs": [],
   "source": [
    "review_page_req = requests.get(PRODUCT_REVIEW_URL)\n",
    "review_page_soup = bs(review_page_req.content, 'html.parser')"
   ]
  },
  {
   "cell_type": "code",
   "execution_count": null,
   "id": "4567db2d-bf67-4956-8d1a-ce11835b8f9a",
   "metadata": {},
   "outputs": [],
   "source": [
    "df = pd.DataFrame(columns=['title', 'reviews', 'ratings'])"
   ]
  },
  {
   "cell_type": "code",
   "execution_count": null,
   "id": "4f6cea52-2bfe-445f-9847-042197ad6805",
   "metadata": {},
   "outputs": [],
   "source": [
    "# next button in the review page\n",
    "# li --> a-last\n",
    "next_button = review_page_soup.find('li', {'class': 'a-last'})\n",
    "\n",
    "j = 1\n",
    "\n",
    "while next_button:\n",
    "    ratings, reviews = get_data(review_page_req)\n",
    "    \n",
    "    new_data = pd.DataFrame({'title': product_title, 'reviews': reviews, 'ratings': ratings})\n",
    "    df = pd.concat([df, new_data], ignore_index=True)\n",
    "    \n",
    "    page_number = int(PRODUCT_REVIEW_URL.split('&pageNumber=')[1])\n",
    "    page_number = page_number + 1\n",
    "    \n",
    "    PRODUCT_REVIEW_URL = PRODUCT_REVIEW_URL.split('&pageNumber=')[0]+\"&pageNumber=\"+str(page_number)\n",
    "    review_page_req = requests.get(PRODUCT_REVIEW_URL)\n",
    "    \n",
    "    if review_page_req.status_code==503:\n",
    "        print(f'Sorry ! --> [HTTPS Status Code : {review_page_req.status_code}]')\n",
    "        break\n",
    "    \n",
    "    review_page_soup = bs(review_page_req.content, 'html.parser')\n",
    "    next_button = review_page_soup.find('li', {'class': 'a-last'})\n",
    "    \n",
    "    if j%100==0:\n",
    "        print(j)\n",
    "\n",
    "    j = j+1\n",
    "    if j > 100:\n",
    "        break\n",
    "\n",
    "    if not next_button:\n",
    "        break"
   ]
  },
  {
   "cell_type": "code",
   "execution_count": null,
   "id": "7b318710-b5a6-42a0-9a8f-e0d20f23e6ce",
   "metadata": {},
   "outputs": [],
   "source": [
    "df.shape"
   ]
  },
  {
   "cell_type": "code",
   "execution_count": null,
   "id": "b5504d58-4259-4a6f-9519-492c007c931f",
   "metadata": {},
   "outputs": [],
   "source": [
    "df.head()"
   ]
  },
  {
   "cell_type": "code",
   "execution_count": null,
   "id": "13a8b0a6-fa53-48c0-af06-86e6931924dd",
   "metadata": {},
   "outputs": [],
   "source": []
  }
 ],
 "metadata": {
  "kernelspec": {
   "display_name": "Python 3 (ipykernel)",
   "language": "python",
   "name": "python3"
  },
  "language_info": {
   "codemirror_mode": {
    "name": "ipython",
    "version": 3
   },
   "file_extension": ".py",
   "mimetype": "text/x-python",
   "name": "python",
   "nbconvert_exporter": "python",
   "pygments_lexer": "ipython3",
   "version": "3.10.9"
  }
 },
 "nbformat": 4,
 "nbformat_minor": 5
}
