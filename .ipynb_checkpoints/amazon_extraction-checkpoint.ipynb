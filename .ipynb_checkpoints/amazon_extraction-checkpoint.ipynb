{
 "cells": [
  {
   "cell_type": "code",
   "execution_count": 1,
   "metadata": {},
   "outputs": [],
   "source": [
    "from bs4 import BeautifulSoup as bs\n",
    "import requests\n",
    "from urllib.parse import urljoin"
   ]
  },
  {
   "cell_type": "code",
   "execution_count": 2,
   "metadata": {},
   "outputs": [],
   "source": [
    "link = 'https://www.amazon.in/Infinity-Glide-500-Wireless-Headphones/product-reviews/B07W6NDVSR/ref=cm_cr_dp_d_show_all_btm?ie=UTF8&reviewerType=all_reviews'"
   ]
  },
  {
   "cell_type": "code",
   "execution_count": null,
   "metadata": {},
   "outputs": [],
   "source": [
    "page = requests.get(link)"
   ]
  },
  {
   "cell_type": "code",
   "execution_count": null,
   "metadata": {},
   "outputs": [],
   "source": [
    "page.status_code"
   ]
  },
  {
   "cell_type": "code",
   "execution_count": null,
   "metadata": {},
   "outputs": [],
   "source": [
    "soup = bs(page.content,'html.parser')"
   ]
  },
  {
   "cell_type": "code",
   "execution_count": null,
   "metadata": {},
   "outputs": [],
   "source": [
    "rating = soup.find('span',{'class':'a-profile-name'})\n",
    "rating"
   ]
  },
  {
   "cell_type": "code",
   "execution_count": null,
   "metadata": {},
   "outputs": [],
   "source": [
    "rate = []\n",
    "for i in range(0,len(rating)):\n",
    "    rate.append(rating[i].get_text().split[' '][0])\n",
    "rate"
   ]
  },
  {
   "cell_type": "code",
   "execution_count": null,
   "metadata": {},
   "outputs": [],
   "source": [
    "len(rate)"
   ]
  },
  {
   "cell_type": "code",
   "execution_count": null,
   "metadata": {},
   "outputs": [],
   "source": [
    "rate.pop(0)\n",
    "len(rate)"
   ]
  },
  {
   "cell_type": "code",
   "execution_count": null,
   "metadata": {},
   "outputs": [],
   "source": [
    "rate.pop(0)\n",
    "len(rate)"
   ]
  },
  {
   "cell_type": "code",
   "execution_count": null,
   "metadata": {},
   "outputs": [],
   "source": [
    "review = soup.find_all(\"span\",{\"data-hook\":\"review-body\"})\n",
    "review"
   ]
  },
  {
   "cell_type": "code",
   "execution_count": null,
   "metadata": {},
   "outputs": [],
   "source": [
    "review_content = []\n",
    "for i in range(0,len(review)):\n",
    "    review_content.append(review[i].get_text())\n",
    "review_content"
   ]
  },
  {
   "cell_type": "code",
   "execution_count": null,
   "metadata": {},
   "outputs": [],
   "source": [
    "review_content[:] = [reviews.lstrip('\\n') for reviews in review_content]\n",
    "review_content[:] = [reviews.rstrip('\\n') for reviews in review_content]\n",
    "review_content"
   ]
  },
  {
   "cell_type": "code",
   "execution_count": null,
   "metadata": {},
   "outputs": [],
   "source": [
    "len(review_content)"
   ]
  },
  {
   "cell_type": "code",
   "execution_count": null,
   "metadata": {},
   "outputs": [],
   "source": [
    "rate\n",
    "review_content"
   ]
  },
  {
   "cell_type": "code",
   "execution_count": null,
   "metadata": {},
   "outputs": [],
   "source": [
    "## pagination\n",
    "\n",
    "# t-ZTKy -- review EN\n",
    "# _3LWZlK _1BLPMq -- rating\n",
    "# col _2wzgFH K0kLPL --  !!! MAIN div box\n",
    "# _3LWZlK _1rdVr6 _1BLPMq -- rating\n",
    "# _1LKTO3 -- next\n",
    "url = 'https://www.amazon.in/JBL-Wireless-Headphones-Bluetooth-Assistant/product-reviews/B08QTYYNDN/ref=cm_cr_arp_d_paging_btm_next_2?ie=UTF8&reviewerType=all_reviews&filterByStar=positive&pageNumber=2'\n",
    "req = requests.get(url)\n",
    "soup = bs(req.content, 'html.parser')\n",
    "nxtBtn = soup.find('li', {\"class\": \"a-last\"})"
   ]
  },
  {
   "cell_type": "code",
   "execution_count": null,
   "metadata": {},
   "outputs": [],
   "source": [
    "if nxtBtn:\n",
    "    print(\"Tag with class 'my-class' exists.\")\n",
    "else:\n",
    "    print(\"Tag with class 'my-class' does not exist.\")"
   ]
  },
  {
   "cell_type": "code",
   "execution_count": null,
   "metadata": {},
   "outputs": [],
   "source": [
    "url.split('&pageNumber=')"
   ]
  },
  {
   "cell_type": "code",
   "execution_count": null,
   "metadata": {},
   "outputs": [],
   "source": [
    "int(url.split('&pageNumber=')[1])"
   ]
  },
  {
   "cell_type": "code",
   "execution_count": null,
   "metadata": {},
   "outputs": [],
   "source": [
    "url"
   ]
  },
  {
   "cell_type": "code",
   "execution_count": null,
   "metadata": {},
   "outputs": [],
   "source": [
    "n = url.split('&pageNumber=')[0]+'&pageNumber='+str(int(url.split('&pageNumber=')[1])+1)\n",
    "n"
   ]
  },
  {
   "cell_type": "code",
   "execution_count": null,
   "metadata": {},
   "outputs": [],
   "source": [
    "def next_url_review(url):\n",
    "    result = {\"exists\": False, \"url\": ''}\n",
    "    \n",
    "    req = requests.get(url)\n",
    "    soup = bs(req.content, 'html.parser')\n",
    "    nxtBtn = soup.find('li', {\"class\": \"a-last\"})\n",
    "    \n",
    "    if nxtBtn:\n",
    "        new_url = url.split('&pageNumber=')[0]+'&pageNumber='+str(int(url.split('&pageNumber=')[1])+1)\n",
    "        new_req = requests.get(new_url)\n",
    "        new_soup = bs(new_req.content, 'html.parser')\n",
    "        main_box = new_soup.find('div', {\"class\": \"col _2wzgFH K0kLPL\"})\n",
    "        \n",
    "        if main_box:\n",
    "            result['exists'] = True\n",
    "            result['url'] = new_url\n",
    "            \n",
    "    return result   "
   ]
  },
  {
   "cell_type": "code",
   "execution_count": null,
   "metadata": {},
   "outputs": [],
   "source": []
  },
  {
   "cell_type": "code",
   "execution_count": null,
   "metadata": {},
   "outputs": [],
   "source": []
  },
  {
   "cell_type": "code",
   "execution_count": null,
   "metadata": {},
   "outputs": [],
   "source": []
  },
  {
   "cell_type": "code",
   "execution_count": null,
   "metadata": {},
   "outputs": [],
   "source": [
    "import pandas as pd\n"
   ]
  },
  {
   "cell_type": "code",
   "execution_count": null,
   "metadata": {},
   "outputs": [],
   "source": [
    "df = pd.DataFrame()"
   ]
  },
  {
   "cell_type": "code",
   "execution_count": null,
   "metadata": {},
   "outputs": [],
   "source": [
    "df"
   ]
  },
  {
   "cell_type": "code",
   "execution_count": null,
   "metadata": {},
   "outputs": [],
   "source": [
    "df"
   ]
  },
  {
   "cell_type": "code",
   "execution_count": null,
   "metadata": {},
   "outputs": [],
   "source": [
    "df['Ratings']=rate\n",
    "df['Reviews']=review_content"
   ]
  },
  {
   "cell_type": "code",
   "execution_count": null,
   "metadata": {},
   "outputs": [],
   "source": [
    "df"
   ]
  },
  {
   "cell_type": "code",
   "execution_count": 6,
   "metadata": {},
   "outputs": [
    {
     "ename": "AttributeError",
     "evalue": "'Response' object has no attribute 'find_all'",
     "output_type": "error",
     "traceback": [
      "\u001b[1;31m---------------------------------------------------------------------------\u001b[0m",
      "\u001b[1;31mAttributeError\u001b[0m                            Traceback (most recent call last)",
      "Cell \u001b[1;32mIn[6], line 5\u001b[0m\n\u001b[0;32m      2\u001b[0m soup \u001b[38;5;241m=\u001b[39m requests\u001b[38;5;241m.\u001b[39mget(\u001b[38;5;124mf\u001b[39m\u001b[38;5;124m'\u001b[39m\u001b[38;5;124mhttps://www.amazon.in/JBL-Wireless-Headphones-Bluetooth-Assistant/product-reviews/B08QTYYNDN/ref=cm_cr_arp_d_viewpnt_lft?ie=UTF8&reviewerType=all_reviews&filterByStar=positive&pageNumber=\u001b[39m\u001b[38;5;132;01m{\u001b[39;00mx\u001b[38;5;132;01m}\u001b[39;00m\u001b[38;5;124m'\u001b[39m)\n\u001b[0;32m      3\u001b[0m \u001b[38;5;66;03m#\u001b[39;00m\n\u001b[0;32m      4\u001b[0m \u001b[38;5;66;03m#review_content\u001b[39;00m\n\u001b[1;32m----> 5\u001b[0m \u001b[38;5;28;01mif\u001b[39;00m \u001b[38;5;129;01mnot\u001b[39;00m \u001b[43msoup\u001b[49m\u001b[38;5;241;43m.\u001b[39;49m\u001b[43mfind_all\u001b[49m(\u001b[38;5;124m'\u001b[39m\u001b[38;5;124mli\u001b[39m\u001b[38;5;124m'\u001b[39m, {\u001b[38;5;124m'\u001b[39m\u001b[38;5;124mclass\u001b[39m\u001b[38;5;124m'\u001b[39m: \u001b[38;5;124m'\u001b[39m\u001b[38;5;124ma-disabled a-last\u001b[39m\u001b[38;5;124m'\u001b[39m}):\n\u001b[0;32m      6\u001b[0m     \u001b[38;5;28;01mpass\u001b[39;00m\n\u001b[0;32m      7\u001b[0m \u001b[38;5;28;01melse\u001b[39;00m:\n",
      "\u001b[1;31mAttributeError\u001b[0m: 'Response' object has no attribute 'find_all'"
     ]
    }
   ],
   "source": [
    "for x in range(1,11):\n",
    "    soup = requests.get(f'https://www.amazon.in/JBL-Wireless-Headphones-Bluetooth-Assistant/product-reviews/B08QTYYNDN/ref=cm_cr_arp_d_viewpnt_lft?ie=UTF8&reviewerType=all_reviews&filterByStar=positive&pageNumber={x}')\n",
    "    #\n",
    "    review_content = \n",
    "    if not soup.find_all('li', {'class': 'a-disabled a-last'}):\n",
    "        pass\n",
    "    else:\n",
    "        break"
   ]
  },
  {
   "cell_type": "code",
   "execution_count": null,
   "metadata": {},
   "outputs": [],
   "source": [
    "import requests\n",
    "from bs4 import BeautifulSoup\n",
    "\n",
    "url = 'https://www.amazon.in/JBL-Wireless-Headphones-Bluetooth-Assistant/product-reviews/B08QTYYNDN/ref=cm_cr_arp_d_viewpnt_lft?ie=UTF8&reviewerType=all_reviews&filterByStar=positive&pageNumber=1'\n",
    "\n",
    "\n",
    "def scrape_amazon_reviews(url):\n",
    "    # Send a GET request to the product page\n",
    "    response = requests.get(url)\n",
    "    if response.status_code == 200:\n",
    "        # Parse the HTML content using BeautifulSoup\n",
    "        soup = BeautifulSoup(response.content, 'html.parser')\n",
    "        # Find the container element that holds the reviews\n",
    "        reviews = soup.find_all('div', {'data-hook': 'review'})\n",
    "        for review in reviews:\n",
    "            # Extract relevant information from each review\n",
    "            rating = review.find('i',class_='review-rating').text\n",
    "            body = review.find(\"span\",{\"data-hook\":\"review-body\"}).text.strip()\n",
    "            print(f\"Rating: {rating}\")\n",
    "            print(f\"Body: {body}\")\n",
    "            print('-' * 50)\n",
    "    else:\n",
    "        print(\"Failed to retrieve page:\", response.status_code)\n",
    "\n",
    "scrape_amazon_reviews(url)\n"
   ]
  },
  {
   "cell_type": "code",
   "execution_count": null,
   "metadata": {},
   "outputs": [],
   "source": [
    "for page in range(1, 30):  # Scrape reviews from page 1 to 10\n",
    "    url = f\"https://www.amazon.in/JBL-Wireless-Headphones-Bluetooth-Assistant/product-reviews/B08QTYYNDN/ref=cm_cr_arp_d_viewpnt_lft?ie=UTF8&reviewerType=all_reviews&filterByStar=positive&?pageNumber={page}\"\n",
    "    scrape_amazon_reviews(url)"
   ]
  },
  {
   "cell_type": "code",
   "execution_count": 3,
   "metadata": {},
   "outputs": [
    {
     "name": "stdout",
     "output_type": "stream",
     "text": [
      "Failed to retrieve page: 503\n"
     ]
    }
   ],
   "source": [
    "url = 'https://www.amazon.in/Sony-Wireless-Headphones-WH-CH510-Ear/product-reviews/B07YGZ7Q9N/ref=cm_cr_arp_d_paging_btm_next_2?ie=UTF8&reviewerType=all_reviews&pageNumber=2'\n",
    "\n",
    "def scrape_amazon_reviews(url):\n",
    "    # Send a GET request to the product page\n",
    "    response = requests.get(url)\n",
    "    if response.status_code == 200:\n",
    "        # Parse the HTML content using BeautifulSoup\n",
    "        soup = BeautifulSoup(response.content, 'html.parser')\n",
    "        # Find the container element that holds the reviews\n",
    "        reviews = soup.find_all('div', {'data-hook': 'review'})\n",
    "        for review in reviews:\n",
    "            # Extract relevant information from each review\n",
    "            rating = review.find('i',class_='review-rating').text\n",
    "            body = review.find(\"span\",{\"data-hook\":\"review-body\"}).text.strip()\n",
    "            print(f\"Rating: {rating}\")\n",
    "            print(f\"Body: {body}\")\n",
    "            print('-' * 50)\n",
    "    else:\n",
    "        print(\"Failed to retrieve page:\", response.status_code)\n",
    "\n",
    "scrape_amazon_reviews(link)\n"
   ]
  },
  {
   "cell_type": "code",
   "execution_count": null,
   "metadata": {},
   "outputs": [],
   "source": []
  }
 ],
 "metadata": {
  "kernelspec": {
   "display_name": "Python 3 (ipykernel)",
   "language": "python",
   "name": "python3"
  },
  "language_info": {
   "codemirror_mode": {
    "name": "ipython",
    "version": 3
   },
   "file_extension": ".py",
   "mimetype": "text/x-python",
   "name": "python",
   "nbconvert_exporter": "python",
   "pygments_lexer": "ipython3",
   "version": "3.10.9"
  }
 },
 "nbformat": 4,
 "nbformat_minor": 4
}
