{
 "cells": [
  {
   "cell_type": "markdown",
   "id": "c9ad1683-253c-47dd-b74e-1494a6d861d0",
   "metadata": {},
   "source": [
    "## Importing neccessary dependencies"
   ]
  },
  {
   "cell_type": "code",
   "execution_count": 1,
   "id": "72b42d96-da9b-49f6-abc7-f3f94d36a8b8",
   "metadata": {},
   "outputs": [],
   "source": [
    "import numpy as np \n",
    "import pandas as pd \n",
    "import matplotlib.pyplot as plt\n",
    "import seaborn as sns\n",
    "import gc\n",
    "from tqdm.notebook import tqdm\n",
    "tqdm.pandas()\n",
    "\n",
    "from sklearn.model_selection import train_test_split\n",
    "\n",
    "import warnings\n",
    "warnings.filterwarnings('ignore')"
   ]
  },
  {
   "cell_type": "code",
   "execution_count": 2,
   "id": "c21feb44-29b3-42f2-aba4-a6e52f493892",
   "metadata": {},
   "outputs": [
    {
     "data": {
      "text/html": [
       "<div>\n",
       "<style scoped>\n",
       "    .dataframe tbody tr th:only-of-type {\n",
       "        vertical-align: middle;\n",
       "    }\n",
       "\n",
       "    .dataframe tbody tr th {\n",
       "        vertical-align: top;\n",
       "    }\n",
       "\n",
       "    .dataframe thead th {\n",
       "        text-align: right;\n",
       "    }\n",
       "</style>\n",
       "<table border=\"1\" class=\"dataframe\">\n",
       "  <thead>\n",
       "    <tr style=\"text-align: right;\">\n",
       "      <th></th>\n",
       "      <th>title</th>\n",
       "      <th>description</th>\n",
       "      <th>reviews</th>\n",
       "      <th>ratings</th>\n",
       "    </tr>\n",
       "  </thead>\n",
       "  <tbody>\n",
       "    <tr>\n",
       "      <th>0</th>\n",
       "      <td>Voltas 1.5 Ton 3 Star Split Inverter AC  - Whi...</td>\n",
       "      <td>NaN</td>\n",
       "      <td>Review after 1 month.Best in performance!Pros-...</td>\n",
       "      <td>5</td>\n",
       "    </tr>\n",
       "    <tr>\n",
       "      <th>1</th>\n",
       "      <td>Voltas 1.5 Ton 3 Star Split Inverter AC  - Whi...</td>\n",
       "      <td>NaN</td>\n",
       "      <td>Voltas - Damn good AC for the 10x10 room , it ...</td>\n",
       "      <td>5</td>\n",
       "    </tr>\n",
       "    <tr>\n",
       "      <th>2</th>\n",
       "      <td>Voltas 1.5 Ton 3 Star Split Inverter AC  - Whi...</td>\n",
       "      <td>NaN</td>\n",
       "      <td>I bought this one 15 days ago for 32850 rs wit...</td>\n",
       "      <td>4</td>\n",
       "    </tr>\n",
       "    <tr>\n",
       "      <th>3</th>\n",
       "      <td>Voltas 1.5 Ton 3 Star Split Inverter AC  - Whi...</td>\n",
       "      <td>NaN</td>\n",
       "      <td>I could say that voltas provides you best AC a...</td>\n",
       "      <td>4</td>\n",
       "    </tr>\n",
       "    <tr>\n",
       "      <th>4</th>\n",
       "      <td>Voltas 1.5 Ton 3 Star Split Inverter AC  - Whi...</td>\n",
       "      <td>NaN</td>\n",
       "      <td>Biggest Fraud I have ever encountered by Flipk...</td>\n",
       "      <td>1</td>\n",
       "    </tr>\n",
       "  </tbody>\n",
       "</table>\n",
       "</div>"
      ],
      "text/plain": [
       "                                               title description  \\\n",
       "0  Voltas 1.5 Ton 3 Star Split Inverter AC  - Whi...         NaN   \n",
       "1  Voltas 1.5 Ton 3 Star Split Inverter AC  - Whi...         NaN   \n",
       "2  Voltas 1.5 Ton 3 Star Split Inverter AC  - Whi...         NaN   \n",
       "3  Voltas 1.5 Ton 3 Star Split Inverter AC  - Whi...         NaN   \n",
       "4  Voltas 1.5 Ton 3 Star Split Inverter AC  - Whi...         NaN   \n",
       "\n",
       "                                             reviews  ratings  \n",
       "0  Review after 1 month.Best in performance!Pros-...        5  \n",
       "1  Voltas - Damn good AC for the 10x10 room , it ...        5  \n",
       "2  I bought this one 15 days ago for 32850 rs wit...        4  \n",
       "3  I could say that voltas provides you best AC a...        4  \n",
       "4  Biggest Fraud I have ever encountered by Flipk...        1  "
      ]
     },
     "execution_count": 2,
     "metadata": {},
     "output_type": "execute_result"
    }
   ],
   "source": [
    "df = pd.read_csv('./air_conditioners_reviews.csv')\n",
    "df.head()"
   ]
  },
  {
   "cell_type": "markdown",
   "id": "8a128145-5b52-468e-81df-25e36f79101d",
   "metadata": {},
   "source": [
    "##### Finding if our dataset consists of any duplicates and if any duplicates are found we will remove them"
   ]
  },
  {
   "cell_type": "code",
   "execution_count": 3,
   "id": "bc343c65-d281-4072-b2d9-9f7ebade635b",
   "metadata": {},
   "outputs": [
    {
     "data": {
      "text/html": [
       "<div>\n",
       "<style scoped>\n",
       "    .dataframe tbody tr th:only-of-type {\n",
       "        vertical-align: middle;\n",
       "    }\n",
       "\n",
       "    .dataframe tbody tr th {\n",
       "        vertical-align: top;\n",
       "    }\n",
       "\n",
       "    .dataframe thead th {\n",
       "        text-align: right;\n",
       "    }\n",
       "</style>\n",
       "<table border=\"1\" class=\"dataframe\">\n",
       "  <thead>\n",
       "    <tr style=\"text-align: right;\">\n",
       "      <th></th>\n",
       "      <th>title</th>\n",
       "      <th>description</th>\n",
       "      <th>reviews</th>\n",
       "      <th>ratings</th>\n",
       "    </tr>\n",
       "  </thead>\n",
       "  <tbody>\n",
       "  </tbody>\n",
       "</table>\n",
       "</div>"
      ],
      "text/plain": [
       "Empty DataFrame\n",
       "Columns: [title, description, reviews, ratings]\n",
       "Index: []"
      ]
     },
     "execution_count": 3,
     "metadata": {},
     "output_type": "execute_result"
    }
   ],
   "source": [
    "duplicate_rows = df[df.duplicated('reviews')]\n",
    "duplicate_rows"
   ]
  },
  {
   "cell_type": "code",
   "execution_count": 5,
   "id": "97aabfe5-bd53-4540-b6f7-f5f9bee74c34",
   "metadata": {
    "tags": []
   },
   "outputs": [
    {
     "data": {
      "text/plain": [
       "23"
      ]
     },
     "execution_count": 5,
     "metadata": {},
     "output_type": "execute_result"
    }
   ],
   "source": [
    "len(df['title'].unique())"
   ]
  },
  {
   "cell_type": "code",
   "execution_count": 6,
   "id": "96891b1b-bf84-4e3b-9cd8-552f34f64179",
   "metadata": {},
   "outputs": [
    {
     "data": {
      "text/plain": [
       "5    2852\n",
       "4     829\n",
       "1     774\n",
       "3     264\n",
       "2     157\n",
       "Name: ratings, dtype: int64"
      ]
     },
     "execution_count": 6,
     "metadata": {},
     "output_type": "execute_result"
    }
   ],
   "source": [
    "df['ratings'].value_counts()"
   ]
  },
  {
   "cell_type": "code",
   "execution_count": 7,
   "id": "197368f3-37b2-42c2-9cc3-77f54f7719b5",
   "metadata": {},
   "outputs": [
    {
     "data": {
      "text/html": [
       "<div>\n",
       "<style scoped>\n",
       "    .dataframe tbody tr th:only-of-type {\n",
       "        vertical-align: middle;\n",
       "    }\n",
       "\n",
       "    .dataframe tbody tr th {\n",
       "        vertical-align: top;\n",
       "    }\n",
       "\n",
       "    .dataframe thead th {\n",
       "        text-align: right;\n",
       "    }\n",
       "</style>\n",
       "<table border=\"1\" class=\"dataframe\">\n",
       "  <thead>\n",
       "    <tr style=\"text-align: right;\">\n",
       "      <th></th>\n",
       "      <th>reviews</th>\n",
       "      <th>ratings</th>\n",
       "    </tr>\n",
       "  </thead>\n",
       "  <tbody>\n",
       "    <tr>\n",
       "      <th>0</th>\n",
       "      <td>Review after 1 month.Best in performance!Pros-...</td>\n",
       "      <td>5</td>\n",
       "    </tr>\n",
       "    <tr>\n",
       "      <th>1</th>\n",
       "      <td>Voltas - Damn good AC for the 10x10 room , it ...</td>\n",
       "      <td>5</td>\n",
       "    </tr>\n",
       "    <tr>\n",
       "      <th>2</th>\n",
       "      <td>I bought this one 15 days ago for 32850 rs wit...</td>\n",
       "      <td>4</td>\n",
       "    </tr>\n",
       "    <tr>\n",
       "      <th>3</th>\n",
       "      <td>I could say that voltas provides you best AC a...</td>\n",
       "      <td>4</td>\n",
       "    </tr>\n",
       "    <tr>\n",
       "      <th>4</th>\n",
       "      <td>Biggest Fraud I have ever encountered by Flipk...</td>\n",
       "      <td>1</td>\n",
       "    </tr>\n",
       "  </tbody>\n",
       "</table>\n",
       "</div>"
      ],
      "text/plain": [
       "                                             reviews  ratings\n",
       "0  Review after 1 month.Best in performance!Pros-...        5\n",
       "1  Voltas - Damn good AC for the 10x10 room , it ...        5\n",
       "2  I bought this one 15 days ago for 32850 rs wit...        4\n",
       "3  I could say that voltas provides you best AC a...        4\n",
       "4  Biggest Fraud I have ever encountered by Flipk...        1"
      ]
     },
     "execution_count": 7,
     "metadata": {},
     "output_type": "execute_result"
    }
   ],
   "source": [
    "df.drop(['title', 'description'], axis=1, inplace=True)\n",
    "df.head()"
   ]
  },
  {
   "cell_type": "markdown",
   "id": "ed5b7fd6-edb1-4561-82e9-5c4d8e096bc9",
   "metadata": {},
   "source": [
    "### Text Processing\n",
    "\n",
    "##### We are using NLP Techniques to clean our texts. For this we are using NLTK dependencies."
   ]
  },
  {
   "cell_type": "code",
   "execution_count": 8,
   "id": "2cfc6faa-b2c3-4595-913b-a46d568158a4",
   "metadata": {
    "collapsed": true,
    "jupyter": {
     "outputs_hidden": true
    },
    "tags": []
   },
   "outputs": [
    {
     "name": "stdout",
     "output_type": "stream",
     "text": [
      "Requirement already satisfied: nltk in c:\\users\\shri0\\anaconda3\\lib\\site-packages (3.7)\n",
      "Requirement already satisfied: tqdm in c:\\users\\shri0\\anaconda3\\lib\\site-packages (from nltk) (4.64.1)\n",
      "Requirement already satisfied: click in c:\\users\\shri0\\anaconda3\\lib\\site-packages (from nltk) (8.0.4)\n",
      "Requirement already satisfied: regex>=2021.8.3 in c:\\users\\shri0\\anaconda3\\lib\\site-packages (from nltk) (2022.7.9)\n",
      "Requirement already satisfied: joblib in c:\\users\\shri0\\anaconda3\\lib\\site-packages (from nltk) (1.1.1)\n",
      "Requirement already satisfied: colorama in c:\\users\\shri0\\anaconda3\\lib\\site-packages (from click->nltk) (0.4.6)\n"
     ]
    },
    {
     "name": "stderr",
     "output_type": "stream",
     "text": [
      "WARNING: Ignoring invalid distribution -rotobuf (c:\\users\\shri0\\anaconda3\\lib\\site-packages)\n",
      "WARNING: Ignoring invalid distribution -rotobuf (c:\\users\\shri0\\anaconda3\\lib\\site-packages)\n",
      "WARNING: Ignoring invalid distribution -rotobuf (c:\\users\\shri0\\anaconda3\\lib\\site-packages)\n",
      "WARNING: Ignoring invalid distribution -rotobuf (c:\\users\\shri0\\anaconda3\\lib\\site-packages)\n",
      "WARNING: Ignoring invalid distribution -rotobuf (c:\\users\\shri0\\anaconda3\\lib\\site-packages)\n",
      "WARNING: Ignoring invalid distribution -rotobuf (c:\\users\\shri0\\anaconda3\\lib\\site-packages)\n"
     ]
    }
   ],
   "source": [
    "!pip install nltk"
   ]
  },
  {
   "cell_type": "code",
   "execution_count": 9,
   "id": "1abc4297-8dfc-426f-9f23-a7b58a39db22",
   "metadata": {
    "collapsed": true,
    "jupyter": {
     "outputs_hidden": true
    },
    "tags": []
   },
   "outputs": [
    {
     "name": "stderr",
     "output_type": "stream",
     "text": [
      "[nltk_data] Downloading package stopwords to\n",
      "[nltk_data]     C:\\Users\\shri0\\AppData\\Roaming\\nltk_data...\n",
      "[nltk_data]   Package stopwords is already up-to-date!\n",
      "[nltk_data] Downloading package omw-1.4 to\n",
      "[nltk_data]     C:\\Users\\shri0\\AppData\\Roaming\\nltk_data...\n",
      "[nltk_data]   Package omw-1.4 is already up-to-date!\n",
      "[nltk_data] Downloading package wordnet to\n",
      "[nltk_data]     C:\\Users\\shri0\\AppData\\Roaming\\nltk_data...\n",
      "[nltk_data]   Package wordnet is already up-to-date!\n"
     ]
    }
   ],
   "source": [
    "import re\n",
    "import nltk\n",
    "nltk.download('stopwords')\n",
    "nltk.download('omw-1.4')\n",
    "nltk.download('wordnet')\n",
    "\n",
    "from nltk.corpus import stopwords\n",
    "from nltk.translate.bleu_score import sentence_bleu\n",
    "from nltk.translate.bleu_score import SmoothingFunction\n",
    "from nltk.stem import WordNetLemmatizer"
   ]
  },
  {
   "cell_type": "code",
   "execution_count": 10,
   "id": "eace6102-3171-44b9-9743-f1fe2a686fe9",
   "metadata": {
    "jupyter": {
     "source_hidden": true
    },
    "tags": []
   },
   "outputs": [],
   "source": [
    "mapping = {\"ain't\": \"is not\", \"aren't\": \"are not\",\"can't\": \"cannot\", \"'cause\": \"because\", \"could've\": \"could have\", \"couldn't\": \"could not\",\n",
    "\"didn't\": \"did not\", \"doesn't\": \"does not\", \"don't\": \"do not\", \"hadn't\": \"had not\", \"hasn't\": \"has not\", \"haven't\": \"have not\",\n",
    "\"he'd\": \"he would\",\"he'll\": \"he will\", \"he's\": \"he is\", \"how'd\": \"how did\", \"how'd'y\": \"how do you\", \"how'll\": \"how will\", \"how's\": \"how is\",\n",
    "\"I'd\": \"I would\", \"I'd've\": \"I would have\", \"I'll\": \"I will\", \"I'll've\": \"I will have\",\"I'm\": \"I am\", \"I've\": \"I have\", \"i'd\": \"i would\",\n",
    "\"i'd've\": \"i would have\", \"i'll\": \"i will\",  \"i'll've\": \"i will have\",\"i'm\": \"i am\", \"i've\": \"i have\", \"isn't\": \"is not\", \"it'd\": \"it would\",\n",
    "\"it'd've\": \"it would have\", \"it'll\": \"it will\", \"it'll've\": \"it will have\",\"it's\": \"it is\", \"let's\": \"let us\", \"ma'am\": \"madam\",\n",
    "\"mayn't\": \"may not\", \"might've\": \"might have\",\"mightn't\": \"might not\",\"mightn't've\": \"might not have\", \"must've\": \"must have\",\n",
    "\"mustn't\": \"must not\", \"mustn't've\": \"must not have\", \"needn't\": \"need not\", \"needn't've\": \"need not have\",\"o'clock\": \"of the clock\",\n",
    "\"oughtn't\": \"ought not\", \"oughtn't've\": \"ought not have\", \"shan't\": \"shall not\", \"sha'n't\": \"shall not\", \"shan't've\": \"shall not have\",\n",
    "\"she'd\": \"she would\", \"she'd've\": \"she would have\", \"she'll\": \"she will\", \"she'll've\": \"she will have\", \"she's\": \"she is\",\n",
    "\"should've\": \"should have\", \"shouldn't\": \"should not\", \"shouldn't've\": \"should not have\", \"so've\": \"so have\",\"so's\": \"so as\",\n",
    "\"this's\": \"this is\",\"that'd\": \"that would\", \"that'd've\": \"that would have\", \"that's\": \"that is\", \"there'd\": \"there would\",\n",
    "\"there'd've\": \"there would have\", \"there's\": \"there is\", \"here's\": \"here is\",\"they'd\": \"they would\", \"they'd've\": \"they would have\",\n",
    "\"they'll\": \"they will\", \"they'll've\": \"they will have\", \"they're\": \"they are\", \"they've\": \"they have\", \"to've\": \"to have\",\n",
    "\"wasn't\": \"was not\", \"we'd\": \"we would\", \"we'd've\": \"we would have\", \"we'll\": \"we will\", \"we'll've\": \"we will have\", \"we're\": \"we are\",\n",
    "\"we've\": \"we have\", \"weren't\": \"were not\", \"what'll\": \"what will\", \"what'll've\": \"what will have\", \"what're\": \"what are\",\n",
    "\"what's\": \"what is\", \"what've\": \"what have\", \"when's\": \"when is\", \"when've\": \"when have\", \"where'd\": \"where did\", \"where's\": \"where is\",\n",
    "\"where've\": \"where have\", \"who'll\": \"who will\", \"who'll've\": \"who will have\", \"who's\": \"who is\", \"who've\": \"who have\",\n",
    "\"why's\": \"why is\", \"why've\": \"why have\", \"will've\": \"will have\", \"won't\": \"will not\", \"won't've\": \"will not have\",\n",
    "\"would've\": \"would have\", \"wouldn't\": \"would not\", \"wouldn't've\": \"would not have\", \"y'all\": \"you all\",\n",
    "\"y'all'd\": \"you all would\",\"y'all'd've\": \"you all would have\",\"y'all're\": \"you all are\",\"y'all've\": \"you all have\",\n",
    "\"you'd\": \"you would\", \"you'd've\": \"you would have\", \"you'll\": \"you will\", \"you'll've\": \"you will have\",\n",
    "\"you're\": \"you are\", \"you've\": \"you have\"}"
   ]
  },
  {
   "cell_type": "code",
   "execution_count": 11,
   "id": "7786bf0e-55e4-4ba6-a6fe-ca85435c1653",
   "metadata": {},
   "outputs": [],
   "source": [
    "StopWords = set(stopwords.words('english')) - set(['no','not'])\n",
    "lemmatizer = WordNetLemmatizer() \n",
    "\n",
    "def clean_text(text):\n",
    "    text = text.lower() #converting input to lowercase\n",
    "    text = re.sub(r\"(@[A-Za-z0-9]+)|([^0-9A-Za-z \\t])|(\\w+:\\/\\/\\S+)|^rt|http.+?\", \"\", text)\n",
    "    text = re.sub(r'\\([^)]*\\)', '', text) #Removing punctuations and special characters.\n",
    "    text = re.sub('\"','', text) #Removing double quotes.\n",
    "    text = ' '.join([mapping[t] if t in mapping else t for t in text.split(\" \")]) #Replacing contractions.   \n",
    "    text = re.sub(r\"'s\\b\",\"\",text) #Eliminating apostrophe.\n",
    "    text = re.sub(\"[^a-zA-Z0-9]\", \" \", text) #Removing non-alphabetical & numerical characters\n",
    "    text = ' '.join([word for word in text.split() if word not in StopWords]) #Removing stopwords.\n",
    "    text = ' '.join([word for word in text.split() if len(word) >= 3]) #Removing very short words\n",
    "    text = ' '.join([lemmatizer.lemmatize(word) for word in text.split()])\n",
    "    \n",
    "    return text"
   ]
  },
  {
   "cell_type": "code",
   "execution_count": 12,
   "id": "a0347b5a-ed7a-41bc-95b3-4af999d94352",
   "metadata": {},
   "outputs": [
    {
     "data": {
      "text/plain": [
       "reviews    0\n",
       "ratings    0\n",
       "dtype: int64"
      ]
     },
     "execution_count": 12,
     "metadata": {},
     "output_type": "execute_result"
    }
   ],
   "source": [
    "df.isnull().sum()"
   ]
  },
  {
   "cell_type": "code",
   "execution_count": 13,
   "id": "de2dd61f-95ba-4cd1-b4c4-323041c0feb3",
   "metadata": {
    "collapsed": true,
    "jupyter": {
     "outputs_hidden": true
    },
    "tags": []
   },
   "outputs": [
    {
     "data": {
      "application/vnd.jupyter.widget-view+json": {
       "model_id": "bb099cf86bbd407d8e7ecaee1f32c738",
       "version_major": 2,
       "version_minor": 0
      },
      "text/plain": [
       "  0%|          | 0/4876 [00:00<?, ?it/s]"
      ]
     },
     "metadata": {},
     "output_type": "display_data"
    }
   ],
   "source": [
    "# applying our function over the column of DataFrame\n",
    "\n",
    "df[\"cleaned_reviews\"] = df[\"reviews\"].progress_apply(lambda text: clean_text(text))"
   ]
  },
  {
   "cell_type": "code",
   "execution_count": 14,
   "id": "b4a1bccf-9f8c-47b9-b601-87f0e7e257ca",
   "metadata": {},
   "outputs": [
    {
     "data": {
      "text/html": [
       "<div>\n",
       "<style scoped>\n",
       "    .dataframe tbody tr th:only-of-type {\n",
       "        vertical-align: middle;\n",
       "    }\n",
       "\n",
       "    .dataframe tbody tr th {\n",
       "        vertical-align: top;\n",
       "    }\n",
       "\n",
       "    .dataframe thead th {\n",
       "        text-align: right;\n",
       "    }\n",
       "</style>\n",
       "<table border=\"1\" class=\"dataframe\">\n",
       "  <thead>\n",
       "    <tr style=\"text-align: right;\">\n",
       "      <th></th>\n",
       "      <th>reviews</th>\n",
       "      <th>ratings</th>\n",
       "      <th>cleaned_reviews</th>\n",
       "    </tr>\n",
       "  </thead>\n",
       "  <tbody>\n",
       "    <tr>\n",
       "      <th>0</th>\n",
       "      <td>Review after 1 month.Best in performance!Pros-...</td>\n",
       "      <td>5</td>\n",
       "      <td>review monthbest performanceproslow noiseexcel...</td>\n",
       "    </tr>\n",
       "    <tr>\n",
       "      <th>1</th>\n",
       "      <td>Voltas - Damn good AC for the 10x10 room , it ...</td>\n",
       "      <td>5</td>\n",
       "      <td>volta damn good 10x10 room get cold night swit...</td>\n",
       "    </tr>\n",
       "    <tr>\n",
       "      <th>2</th>\n",
       "      <td>I bought this one 15 days ago for 32850 rs wit...</td>\n",
       "      <td>4</td>\n",
       "      <td>bought one day ago 32850 400 stabilizer analys...</td>\n",
       "    </tr>\n",
       "    <tr>\n",
       "      <th>3</th>\n",
       "      <td>I could say that voltas provides you best AC a...</td>\n",
       "      <td>4</td>\n",
       "      <td>could say volta provides best price segment 30...</td>\n",
       "    </tr>\n",
       "    <tr>\n",
       "      <th>4</th>\n",
       "      <td>Biggest Fraud I have ever encountered by Flipk...</td>\n",
       "      <td>1</td>\n",
       "      <td>biggest fraud ever encountered flipkart volta ...</td>\n",
       "    </tr>\n",
       "  </tbody>\n",
       "</table>\n",
       "</div>"
      ],
      "text/plain": [
       "                                             reviews  ratings  \\\n",
       "0  Review after 1 month.Best in performance!Pros-...        5   \n",
       "1  Voltas - Damn good AC for the 10x10 room , it ...        5   \n",
       "2  I bought this one 15 days ago for 32850 rs wit...        4   \n",
       "3  I could say that voltas provides you best AC a...        4   \n",
       "4  Biggest Fraud I have ever encountered by Flipk...        1   \n",
       "\n",
       "                                     cleaned_reviews  \n",
       "0  review monthbest performanceproslow noiseexcel...  \n",
       "1  volta damn good 10x10 room get cold night swit...  \n",
       "2  bought one day ago 32850 400 stabilizer analys...  \n",
       "3  could say volta provides best price segment 30...  \n",
       "4  biggest fraud ever encountered flipkart volta ...  "
      ]
     },
     "execution_count": 14,
     "metadata": {},
     "output_type": "execute_result"
    }
   ],
   "source": [
    "df.head()"
   ]
  },
  {
   "cell_type": "markdown",
   "id": "dbdf3c29-6189-40ff-a4c4-fd2bc83ba6ef",
   "metadata": {},
   "source": [
    "##### Labels :- Negatives as 0 and Positives as 1\n",
    "##### Considering ratings from (1-3 as Negative) and (4-5 as Positive)"
   ]
  },
  {
   "cell_type": "code",
   "execution_count": 15,
   "id": "6dd79be3-cf05-4a5b-b525-57c524ba734c",
   "metadata": {},
   "outputs": [
    {
     "data": {
      "text/html": [
       "<div>\n",
       "<style scoped>\n",
       "    .dataframe tbody tr th:only-of-type {\n",
       "        vertical-align: middle;\n",
       "    }\n",
       "\n",
       "    .dataframe tbody tr th {\n",
       "        vertical-align: top;\n",
       "    }\n",
       "\n",
       "    .dataframe thead th {\n",
       "        text-align: right;\n",
       "    }\n",
       "</style>\n",
       "<table border=\"1\" class=\"dataframe\">\n",
       "  <thead>\n",
       "    <tr style=\"text-align: right;\">\n",
       "      <th></th>\n",
       "      <th>reviews</th>\n",
       "      <th>ratings</th>\n",
       "      <th>cleaned_reviews</th>\n",
       "      <th>bin_label</th>\n",
       "    </tr>\n",
       "  </thead>\n",
       "  <tbody>\n",
       "    <tr>\n",
       "      <th>0</th>\n",
       "      <td>Review after 1 month.Best in performance!Pros-...</td>\n",
       "      <td>5</td>\n",
       "      <td>review monthbest performanceproslow noiseexcel...</td>\n",
       "      <td>1</td>\n",
       "    </tr>\n",
       "    <tr>\n",
       "      <th>1</th>\n",
       "      <td>Voltas - Damn good AC for the 10x10 room , it ...</td>\n",
       "      <td>5</td>\n",
       "      <td>volta damn good 10x10 room get cold night swit...</td>\n",
       "      <td>1</td>\n",
       "    </tr>\n",
       "    <tr>\n",
       "      <th>2</th>\n",
       "      <td>I bought this one 15 days ago for 32850 rs wit...</td>\n",
       "      <td>4</td>\n",
       "      <td>bought one day ago 32850 400 stabilizer analys...</td>\n",
       "      <td>1</td>\n",
       "    </tr>\n",
       "    <tr>\n",
       "      <th>3</th>\n",
       "      <td>I could say that voltas provides you best AC a...</td>\n",
       "      <td>4</td>\n",
       "      <td>could say volta provides best price segment 30...</td>\n",
       "      <td>1</td>\n",
       "    </tr>\n",
       "    <tr>\n",
       "      <th>4</th>\n",
       "      <td>Biggest Fraud I have ever encountered by Flipk...</td>\n",
       "      <td>1</td>\n",
       "      <td>biggest fraud ever encountered flipkart volta ...</td>\n",
       "      <td>0</td>\n",
       "    </tr>\n",
       "  </tbody>\n",
       "</table>\n",
       "</div>"
      ],
      "text/plain": [
       "                                             reviews  ratings  \\\n",
       "0  Review after 1 month.Best in performance!Pros-...        5   \n",
       "1  Voltas - Damn good AC for the 10x10 room , it ...        5   \n",
       "2  I bought this one 15 days ago for 32850 rs wit...        4   \n",
       "3  I could say that voltas provides you best AC a...        4   \n",
       "4  Biggest Fraud I have ever encountered by Flipk...        1   \n",
       "\n",
       "                                     cleaned_reviews  bin_label  \n",
       "0  review monthbest performanceproslow noiseexcel...          1  \n",
       "1  volta damn good 10x10 room get cold night swit...          1  \n",
       "2  bought one day ago 32850 400 stabilizer analys...          1  \n",
       "3  could say volta provides best price segment 30...          1  \n",
       "4  biggest fraud ever encountered flipkart volta ...          0  "
      ]
     },
     "execution_count": 15,
     "metadata": {},
     "output_type": "execute_result"
    }
   ],
   "source": [
    "# We have considered doing Binary Classification of the reviews\n",
    "\n",
    "df['bin_label'] = df['ratings'].map({1: 0, 2:0, 3:0, 4:1, 5:1})\n",
    "df.head()"
   ]
  },
  {
   "cell_type": "code",
   "execution_count": 16,
   "id": "c2712092-0662-429e-ac2d-dd9d8978a174",
   "metadata": {},
   "outputs": [
    {
     "data": {
      "text/html": [
       "<div>\n",
       "<style scoped>\n",
       "    .dataframe tbody tr th:only-of-type {\n",
       "        vertical-align: middle;\n",
       "    }\n",
       "\n",
       "    .dataframe tbody tr th {\n",
       "        vertical-align: top;\n",
       "    }\n",
       "\n",
       "    .dataframe thead th {\n",
       "        text-align: right;\n",
       "    }\n",
       "</style>\n",
       "<table border=\"1\" class=\"dataframe\">\n",
       "  <thead>\n",
       "    <tr style=\"text-align: right;\">\n",
       "      <th></th>\n",
       "      <th>cleaned_reviews</th>\n",
       "      <th>bin_label</th>\n",
       "    </tr>\n",
       "  </thead>\n",
       "  <tbody>\n",
       "    <tr>\n",
       "      <th>0</th>\n",
       "      <td>review monthbest performanceproslow noiseexcel...</td>\n",
       "      <td>1</td>\n",
       "    </tr>\n",
       "    <tr>\n",
       "      <th>1</th>\n",
       "      <td>volta damn good 10x10 room get cold night swit...</td>\n",
       "      <td>1</td>\n",
       "    </tr>\n",
       "    <tr>\n",
       "      <th>2</th>\n",
       "      <td>bought one day ago 32850 400 stabilizer analys...</td>\n",
       "      <td>1</td>\n",
       "    </tr>\n",
       "    <tr>\n",
       "      <th>3</th>\n",
       "      <td>could say volta provides best price segment 30...</td>\n",
       "      <td>1</td>\n",
       "    </tr>\n",
       "    <tr>\n",
       "      <th>4</th>\n",
       "      <td>biggest fraud ever encountered flipkart volta ...</td>\n",
       "      <td>0</td>\n",
       "    </tr>\n",
       "  </tbody>\n",
       "</table>\n",
       "</div>"
      ],
      "text/plain": [
       "                                     cleaned_reviews  bin_label\n",
       "0  review monthbest performanceproslow noiseexcel...          1\n",
       "1  volta damn good 10x10 room get cold night swit...          1\n",
       "2  bought one day ago 32850 400 stabilizer analys...          1\n",
       "3  could say volta provides best price segment 30...          1\n",
       "4  biggest fraud ever encountered flipkart volta ...          0"
      ]
     },
     "execution_count": 16,
     "metadata": {},
     "output_type": "execute_result"
    }
   ],
   "source": [
    "df = df[['cleaned_reviews', 'bin_label']]\n",
    "df.head()"
   ]
  },
  {
   "cell_type": "code",
   "execution_count": 20,
   "id": "d8d8df2b-e13d-4cf4-8c72-cbb6c01b3f62",
   "metadata": {},
   "outputs": [
    {
     "data": {
      "text/plain": [
       "(4876, 2)"
      ]
     },
     "execution_count": 20,
     "metadata": {},
     "output_type": "execute_result"
    }
   ],
   "source": [
    "df.shape"
   ]
  },
  {
   "cell_type": "markdown",
   "id": "800002a8-32ee-47ab-8599-232c6400c296",
   "metadata": {},
   "source": [
    "### Vectorizing the Texts and Upsampling the minority classes\n",
    "##### Inorder to make predictions over the texts we need to convert the texts into a numeric form cause Machines only understand numbers, here we have used TF-IDF Vectorization technique which helps to create a Sparse Vector of Numbers for the corresponding text.\n",
    "##### As we can see the negative classes are not even half of the Positive Classes, hence in order to get a balanced data we have used an Imbalanced Learning technique which is SMOTE which helps in the SAMPLING of the minority classes."
   ]
  },
  {
   "cell_type": "code",
   "execution_count": 39,
   "id": "92867042-fecd-480b-bb77-027757668d39",
   "metadata": {},
   "outputs": [],
   "source": [
    "X_train, X_test, y_train, y_test = train_test_split(df['cleaned_reviews'], df['bin_label'], test_size=0.33, random_state=42)"
   ]
  },
  {
   "cell_type": "code",
   "execution_count": 43,
   "id": "d7ed8b75-47ea-4e85-b94c-b4868588860c",
   "metadata": {},
   "outputs": [
    {
     "data": {
      "text/plain": [
       "pandas.core.series.Series"
      ]
     },
     "execution_count": 43,
     "metadata": {},
     "output_type": "execute_result"
    }
   ],
   "source": [
    "type(X_train)"
   ]
  },
  {
   "cell_type": "code",
   "execution_count": 44,
   "id": "022559e6-5445-49f1-94b1-a7ea8ba80071",
   "metadata": {},
   "outputs": [
    {
     "data": {
      "text/plain": [
       "(3266,)"
      ]
     },
     "execution_count": 44,
     "metadata": {},
     "output_type": "execute_result"
    }
   ],
   "source": [
    "X_train.shape"
   ]
  },
  {
   "cell_type": "code",
   "execution_count": 45,
   "id": "aa3da056-20bf-4779-bb6d-a6b0d1e87a0d",
   "metadata": {},
   "outputs": [],
   "source": [
    "from sklearn.feature_extraction.text import TfidfVectorizer\n",
    "\n",
    "vectorizer = TfidfVectorizer()\n",
    "X_train = vectorizer.fit_transform(X_train)\n",
    "X_test = vectorizer.transform(X_test)"
   ]
  },
  {
   "cell_type": "code",
   "execution_count": 46,
   "id": "be09deba-06c9-4737-8bb0-08826bec46c8",
   "metadata": {},
   "outputs": [
    {
     "data": {
      "text/plain": [
       "scipy.sparse._csr.csr_matrix"
      ]
     },
     "execution_count": 46,
     "metadata": {},
     "output_type": "execute_result"
    }
   ],
   "source": [
    "type(X_train)"
   ]
  },
  {
   "cell_type": "code",
   "execution_count": 47,
   "id": "f6813f6c-8b2e-42cb-8d07-9b540745fd71",
   "metadata": {},
   "outputs": [
    {
     "data": {
      "text/plain": [
       "(3266, 4609)"
      ]
     },
     "execution_count": 47,
     "metadata": {},
     "output_type": "execute_result"
    }
   ],
   "source": [
    "X_train.shape"
   ]
  },
  {
   "cell_type": "code",
   "execution_count": 19,
   "id": "cfea7cee-56a0-40fa-bf54-1390ade726bd",
   "metadata": {},
   "outputs": [
    {
     "data": {
      "text/plain": [
       "Counter({1: 2474, 0: 792})"
      ]
     },
     "execution_count": 19,
     "metadata": {},
     "output_type": "execute_result"
    }
   ],
   "source": [
    "from collections import Counter\n",
    "Counter(y_train)"
   ]
  },
  {
   "cell_type": "code",
   "execution_count": 21,
   "id": "8d4329b2-baee-4361-8bd6-5a8fc0b920dc",
   "metadata": {},
   "outputs": [],
   "source": [
    "### Implementing Imbalanced learning\n",
    "\n",
    "from imblearn.over_sampling import SMOTE\n",
    "\n",
    "smote = SMOTE(random_state=42)\n",
    "X_train_resampled, y_train_resampled = smote.fit_resample(X_train, y_train)"
   ]
  },
  {
   "cell_type": "code",
   "execution_count": 22,
   "id": "864098d9-a1d7-42a4-8ca0-e5edfab7dc88",
   "metadata": {},
   "outputs": [
    {
     "data": {
      "text/plain": [
       "Counter({1: 2474, 0: 2474})"
      ]
     },
     "execution_count": 22,
     "metadata": {},
     "output_type": "execute_result"
    }
   ],
   "source": [
    "Counter(y_train_resampled)"
   ]
  },
  {
   "cell_type": "markdown",
   "id": "7c82b211-1232-484a-8340-e14f2bdeae09",
   "metadata": {},
   "source": [
    "### Training the Model\n",
    "##### As of now we don't very huge data hence we are using Traditional Machine Learning Algorithms to make predictions. We have used Logistic Regression as we are doing only the Binary Classification of the Reviews."
   ]
  },
  {
   "cell_type": "code",
   "execution_count": 23,
   "id": "39b0d179-f203-44ad-86ae-95409a76410d",
   "metadata": {},
   "outputs": [],
   "source": [
    "from sklearn.linear_model import LogisticRegression\n",
    "\n",
    "clf = LogisticRegression()"
   ]
  },
  {
   "cell_type": "code",
   "execution_count": 24,
   "id": "87c4d927-facb-4c4b-a1f9-de1fde7707fd",
   "metadata": {
    "collapsed": true,
    "jupyter": {
     "outputs_hidden": true
    },
    "tags": []
   },
   "outputs": [
    {
     "data": {
      "text/html": [
       "<style>#sk-container-id-1 {color: black;background-color: white;}#sk-container-id-1 pre{padding: 0;}#sk-container-id-1 div.sk-toggleable {background-color: white;}#sk-container-id-1 label.sk-toggleable__label {cursor: pointer;display: block;width: 100%;margin-bottom: 0;padding: 0.3em;box-sizing: border-box;text-align: center;}#sk-container-id-1 label.sk-toggleable__label-arrow:before {content: \"▸\";float: left;margin-right: 0.25em;color: #696969;}#sk-container-id-1 label.sk-toggleable__label-arrow:hover:before {color: black;}#sk-container-id-1 div.sk-estimator:hover label.sk-toggleable__label-arrow:before {color: black;}#sk-container-id-1 div.sk-toggleable__content {max-height: 0;max-width: 0;overflow: hidden;text-align: left;background-color: #f0f8ff;}#sk-container-id-1 div.sk-toggleable__content pre {margin: 0.2em;color: black;border-radius: 0.25em;background-color: #f0f8ff;}#sk-container-id-1 input.sk-toggleable__control:checked~div.sk-toggleable__content {max-height: 200px;max-width: 100%;overflow: auto;}#sk-container-id-1 input.sk-toggleable__control:checked~label.sk-toggleable__label-arrow:before {content: \"▾\";}#sk-container-id-1 div.sk-estimator input.sk-toggleable__control:checked~label.sk-toggleable__label {background-color: #d4ebff;}#sk-container-id-1 div.sk-label input.sk-toggleable__control:checked~label.sk-toggleable__label {background-color: #d4ebff;}#sk-container-id-1 input.sk-hidden--visually {border: 0;clip: rect(1px 1px 1px 1px);clip: rect(1px, 1px, 1px, 1px);height: 1px;margin: -1px;overflow: hidden;padding: 0;position: absolute;width: 1px;}#sk-container-id-1 div.sk-estimator {font-family: monospace;background-color: #f0f8ff;border: 1px dotted black;border-radius: 0.25em;box-sizing: border-box;margin-bottom: 0.5em;}#sk-container-id-1 div.sk-estimator:hover {background-color: #d4ebff;}#sk-container-id-1 div.sk-parallel-item::after {content: \"\";width: 100%;border-bottom: 1px solid gray;flex-grow: 1;}#sk-container-id-1 div.sk-label:hover label.sk-toggleable__label {background-color: #d4ebff;}#sk-container-id-1 div.sk-serial::before {content: \"\";position: absolute;border-left: 1px solid gray;box-sizing: border-box;top: 0;bottom: 0;left: 50%;z-index: 0;}#sk-container-id-1 div.sk-serial {display: flex;flex-direction: column;align-items: center;background-color: white;padding-right: 0.2em;padding-left: 0.2em;position: relative;}#sk-container-id-1 div.sk-item {position: relative;z-index: 1;}#sk-container-id-1 div.sk-parallel {display: flex;align-items: stretch;justify-content: center;background-color: white;position: relative;}#sk-container-id-1 div.sk-item::before, #sk-container-id-1 div.sk-parallel-item::before {content: \"\";position: absolute;border-left: 1px solid gray;box-sizing: border-box;top: 0;bottom: 0;left: 50%;z-index: -1;}#sk-container-id-1 div.sk-parallel-item {display: flex;flex-direction: column;z-index: 1;position: relative;background-color: white;}#sk-container-id-1 div.sk-parallel-item:first-child::after {align-self: flex-end;width: 50%;}#sk-container-id-1 div.sk-parallel-item:last-child::after {align-self: flex-start;width: 50%;}#sk-container-id-1 div.sk-parallel-item:only-child::after {width: 0;}#sk-container-id-1 div.sk-dashed-wrapped {border: 1px dashed gray;margin: 0 0.4em 0.5em 0.4em;box-sizing: border-box;padding-bottom: 0.4em;background-color: white;}#sk-container-id-1 div.sk-label label {font-family: monospace;font-weight: bold;display: inline-block;line-height: 1.2em;}#sk-container-id-1 div.sk-label-container {text-align: center;}#sk-container-id-1 div.sk-container {/* jupyter's `normalize.less` sets `[hidden] { display: none; }` but bootstrap.min.css set `[hidden] { display: none !important; }` so we also need the `!important` here to be able to override the default hidden behavior on the sphinx rendered scikit-learn.org. See: https://github.com/scikit-learn/scikit-learn/issues/21755 */display: inline-block !important;position: relative;}#sk-container-id-1 div.sk-text-repr-fallback {display: none;}</style><div id=\"sk-container-id-1\" class=\"sk-top-container\"><div class=\"sk-text-repr-fallback\"><pre>LogisticRegression()</pre><b>In a Jupyter environment, please rerun this cell to show the HTML representation or trust the notebook. <br />On GitHub, the HTML representation is unable to render, please try loading this page with nbviewer.org.</b></div><div class=\"sk-container\" hidden><div class=\"sk-item\"><div class=\"sk-estimator sk-toggleable\"><input class=\"sk-toggleable__control sk-hidden--visually\" id=\"sk-estimator-id-1\" type=\"checkbox\" checked><label for=\"sk-estimator-id-1\" class=\"sk-toggleable__label sk-toggleable__label-arrow\">LogisticRegression</label><div class=\"sk-toggleable__content\"><pre>LogisticRegression()</pre></div></div></div></div></div>"
      ],
      "text/plain": [
       "LogisticRegression()"
      ]
     },
     "execution_count": 24,
     "metadata": {},
     "output_type": "execute_result"
    }
   ],
   "source": [
    "clf.fit(X_train_resampled, y_train_resampled)"
   ]
  },
  {
   "cell_type": "markdown",
   "id": "3a31aa53-aa47-4303-9657-eb97466498c4",
   "metadata": {},
   "source": [
    "### Results\n",
    "##### We have chosen Accuracy Score and Classification Report as our result metrics and we have got around 90% as Accuracy Score"
   ]
  },
  {
   "cell_type": "code",
   "execution_count": 25,
   "id": "d6890c73-92a3-4f61-b4f0-69db929b24aa",
   "metadata": {},
   "outputs": [],
   "source": [
    "y_pred = clf.predict(X_test)"
   ]
  },
  {
   "cell_type": "code",
   "execution_count": 30,
   "id": "5ad30eb5-f000-44fc-a6fd-2676b2a08f6d",
   "metadata": {},
   "outputs": [
    {
     "name": "stdout",
     "output_type": "stream",
     "text": [
      "              precision    recall  f1-score   support\n",
      "\n",
      "           0       0.81      0.82      0.81       403\n",
      "           1       0.94      0.93      0.94      1207\n",
      "\n",
      "    accuracy                           0.91      1610\n",
      "   macro avg       0.87      0.88      0.88      1610\n",
      "weighted avg       0.91      0.91      0.91      1610\n",
      "\n",
      "\n",
      "\n",
      "Acc: 0.9055900621118013\n"
     ]
    }
   ],
   "source": [
    "from sklearn.metrics import classification_report, accuracy_score\n",
    "\n",
    "print(classification_report(y_test, y_pred))\n",
    "print(\"\\n\")\n",
    "print(f\"Acc: {accuracy_score(y_test, y_pred)}\")"
   ]
  },
  {
   "cell_type": "code",
   "execution_count": 27,
   "id": "9479cdc8-8801-4cc7-89ed-7dd20dbe6aab",
   "metadata": {},
   "outputs": [
    {
     "data": {
      "text/plain": [
       "array([1, 1, 1, 1, 1, 1, 0, 0, 1, 1], dtype=int64)"
      ]
     },
     "execution_count": 27,
     "metadata": {},
     "output_type": "execute_result"
    }
   ],
   "source": [
    "y_pred[:10]"
   ]
  },
  {
   "cell_type": "code",
   "execution_count": 28,
   "id": "bb5eca97-ee3b-42ba-be50-6ca987ed36a4",
   "metadata": {},
   "outputs": [
    {
     "data": {
      "text/plain": [
       "1598    1\n",
       "3945    1\n",
       "2851    1\n",
       "4610    1\n",
       "3745    1\n",
       "3879    1\n",
       "501     0\n",
       "2677    0\n",
       "3203    1\n",
       "2342    1\n",
       "Name: bin_label, dtype: int64"
      ]
     },
     "execution_count": 28,
     "metadata": {},
     "output_type": "execute_result"
    }
   ],
   "source": [
    "y_test[:10]"
   ]
  },
  {
   "cell_type": "code",
   "execution_count": 32,
   "id": "cc158491-c7e0-4ce3-be07-1024a8c5b082",
   "metadata": {},
   "outputs": [
    {
     "data": {
      "text/plain": [
       "(1, 4609)"
      ]
     },
     "execution_count": 32,
     "metadata": {},
     "output_type": "execute_result"
    }
   ],
   "source": [
    "X_test[0].shape"
   ]
  },
  {
   "cell_type": "code",
   "execution_count": 37,
   "id": "897d7d7e-aa3f-48bd-a013-456b8371909c",
   "metadata": {},
   "outputs": [
    {
     "data": {
      "text/plain": [
       "<3266x4609 sparse matrix of type '<class 'numpy.float64'>'\n",
       "\twith 27670 stored elements in Compressed Sparse Row format>"
      ]
     },
     "execution_count": 37,
     "metadata": {},
     "output_type": "execute_result"
    }
   ],
   "source": [
    "X_train"
   ]
  },
  {
   "cell_type": "code",
   "execution_count": 36,
   "id": "c5067d44-5f66-4fe3-89fb-5824db3efda4",
   "metadata": {},
   "outputs": [
    {
     "data": {
      "text/plain": [
       "<4948x4609 sparse matrix of type '<class 'numpy.float64'>'\n",
       "\twith 53926 stored elements in Compressed Sparse Row format>"
      ]
     },
     "execution_count": 36,
     "metadata": {},
     "output_type": "execute_result"
    }
   ],
   "source": [
    "X_train_resampled"
   ]
  },
  {
   "cell_type": "markdown",
   "id": "ba16c8e4-7b4c-42e6-ac6f-9eabcf2e5681",
   "metadata": {},
   "source": [
    "### Prediction\n",
    "##### We have picked some random Reviews of a Product of both the classes and we saw some decent Results."
   ]
  },
  {
   "cell_type": "markdown",
   "id": "0696c913-963c-45fd-9d39-c0ebbfc7d99f",
   "metadata": {},
   "source": [
    "#### Positive Review prediction"
   ]
  },
  {
   "cell_type": "code",
   "execution_count": 34,
   "id": "0cb22827-8e07-42f1-b6b9-134810fc8129",
   "metadata": {},
   "outputs": [],
   "source": [
    "sent = \"Great phone in this price range. Excellent performance and good battery back up. Mediatek dimensity 700 performance works well in day to day normal usage. Android 12 is used in the phone with MiUi 13. My father liked it a lot. One disadvantage of phone is little heavy in hand.\""
   ]
  },
  {
   "cell_type": "code",
   "execution_count": 35,
   "id": "aa952fb5-f12e-41af-b666-58245c139520",
   "metadata": {},
   "outputs": [
    {
     "data": {
      "text/plain": [
       "'great phone price range excellent performance good battery back mediatek dimensity 700 performance work well day day normal usage android used phone miui father liked lot one disadvantage phone little heavy hand'"
      ]
     },
     "execution_count": 35,
     "metadata": {},
     "output_type": "execute_result"
    }
   ],
   "source": [
    "sent = clean_text(sent)\n",
    "sent"
   ]
  },
  {
   "cell_type": "code",
   "execution_count": 54,
   "id": "065528fa-152c-4bbe-99ee-438c419aaf3c",
   "metadata": {},
   "outputs": [
    {
     "data": {
      "text/plain": [
       "0    great phone price range excellent performance ...\n",
       "dtype: object"
      ]
     },
     "execution_count": 54,
     "metadata": {},
     "output_type": "execute_result"
    }
   ],
   "source": [
    "s = pd.Series(sent)\n",
    "s"
   ]
  },
  {
   "cell_type": "code",
   "execution_count": 56,
   "id": "7e034d2a-26eb-46bf-97c0-1d2467593215",
   "metadata": {},
   "outputs": [],
   "source": [
    "s_test = vectorizer.transform(s)"
   ]
  },
  {
   "cell_type": "code",
   "execution_count": 57,
   "id": "034aa1a0-59aa-4bc7-8a15-d50aa8c051e3",
   "metadata": {},
   "outputs": [
    {
     "data": {
      "text/plain": [
       "array([1], dtype=int64)"
      ]
     },
     "execution_count": 57,
     "metadata": {},
     "output_type": "execute_result"
    }
   ],
   "source": [
    "clf.predict(s_test)"
   ]
  },
  {
   "cell_type": "markdown",
   "id": "66458c72-6d92-49c2-8438-886b81cb4107",
   "metadata": {},
   "source": [
    "#### Negative Review prediction"
   ]
  },
  {
   "cell_type": "code",
   "execution_count": 60,
   "id": "b177f5ab-4eb7-43c4-ba35-d7b206aada46",
   "metadata": {},
   "outputs": [],
   "source": [
    "neg_sent = \"I am posting this review after using phone about 2 months battery is very bad while using it doesn't working like that 5000 it's like 3000 .. Cameras in day light Are good but in low light it's not upto mark also in several conditions it doesn't take good photos... Processor is good but overall not a good phon .. Generate lots of heating.. Even in general usage I am not a gamer.. Jio 5g is working fine... Overall experience bad... Not satisfied\""
   ]
  },
  {
   "cell_type": "code",
   "execution_count": 61,
   "id": "be19690b-7578-4472-9064-03c5b48a7fb3",
   "metadata": {},
   "outputs": [
    {
     "data": {
      "text/plain": [
       "'posting review using phone month battery bad using doesnt working like 5000 like 3000 camera day light good low light not upto mark also several condition doesnt take good photo processor good overall not good phon generate lot heating even general usage not gamer jio working fine overall experience bad not satisfied'"
      ]
     },
     "execution_count": 61,
     "metadata": {},
     "output_type": "execute_result"
    }
   ],
   "source": [
    "neg_sent = clean_text(neg_sent)\n",
    "neg_sent"
   ]
  },
  {
   "cell_type": "code",
   "execution_count": 62,
   "id": "cf0ee3d4-56c5-46ea-888c-79dee3b7b771",
   "metadata": {},
   "outputs": [
    {
     "data": {
      "text/plain": [
       "0    posting review using phone month battery bad u...\n",
       "dtype: object"
      ]
     },
     "execution_count": 62,
     "metadata": {},
     "output_type": "execute_result"
    }
   ],
   "source": [
    "neg = pd.Series(neg_sent)\n",
    "neg"
   ]
  },
  {
   "cell_type": "code",
   "execution_count": 63,
   "id": "f1375f1a-e1fa-4b83-977c-add7cdd097e1",
   "metadata": {},
   "outputs": [],
   "source": [
    "neg_test = vectorizer.transform(neg)"
   ]
  },
  {
   "cell_type": "code",
   "execution_count": 64,
   "id": "1e81d8a7-26b9-463e-ab34-e2ce401baa4d",
   "metadata": {},
   "outputs": [
    {
     "data": {
      "text/plain": [
       "array([0], dtype=int64)"
      ]
     },
     "execution_count": 64,
     "metadata": {},
     "output_type": "execute_result"
    }
   ],
   "source": [
    "clf.predict(neg_test)"
   ]
  },
  {
   "cell_type": "markdown",
   "id": "1b22c979-585a-4ad6-9539-3e8c537f94fa",
   "metadata": {},
   "source": [
    "### Saving Model and Vectorizer as Pickle\n",
    "#### We have saved our trained classifier and vectorizer as PICKLE format for future use."
   ]
  },
  {
   "cell_type": "code",
   "execution_count": 65,
   "id": "a50e2800-2b11-465b-aa7c-c58953b2453b",
   "metadata": {},
   "outputs": [],
   "source": [
    "import pickle\n",
    "pickle.dump(clf, open('log_reg.pkl', 'wb'))"
   ]
  },
  {
   "cell_type": "code",
   "execution_count": 66,
   "id": "e8f54fc1-bdcf-432c-9c10-3e9daf2b5fbc",
   "metadata": {},
   "outputs": [],
   "source": [
    "pickle.dump(vectorizer, open('vectorizer.pkl', 'wb'))"
   ]
  },
  {
   "cell_type": "code",
   "execution_count": 67,
   "id": "30472c66-cad4-4c34-b1e2-7ebe4a0d6486",
   "metadata": {},
   "outputs": [
    {
     "data": {
      "text/plain": [
       "array([0], dtype=int64)"
      ]
     },
     "execution_count": 67,
     "metadata": {},
     "output_type": "execute_result"
    }
   ],
   "source": [
    "pickled_model = pickle.load(open('log_reg.pkl', 'rb'))\n",
    "pickled_model.predict(neg_test)"
   ]
  }
 ],
 "metadata": {
  "kernelspec": {
   "display_name": "Python 3 (ipykernel)",
   "language": "python",
   "name": "python3"
  },
  "language_info": {
   "codemirror_mode": {
    "name": "ipython",
    "version": 3
   },
   "file_extension": ".py",
   "mimetype": "text/x-python",
   "name": "python",
   "nbconvert_exporter": "python",
   "pygments_lexer": "ipython3",
   "version": "3.10.9"
  }
 },
 "nbformat": 4,
 "nbformat_minor": 5
}
