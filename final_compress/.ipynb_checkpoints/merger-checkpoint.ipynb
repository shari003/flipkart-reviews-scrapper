{
 "cells": [
  {
   "cell_type": "code",
   "execution_count": 1,
   "id": "ed9ae172-af86-459d-abf6-615dd2e79b55",
   "metadata": {
    "collapsed": true,
    "jupyter": {
     "outputs_hidden": true
    },
    "tags": []
   },
   "outputs": [
    {
     "name": "stdout",
     "output_type": "stream",
     "text": [
      "Collecting gdown\n",
      "  Downloading gdown-4.7.1-py3-none-any.whl (15 kB)\n",
      "Requirement already satisfied: tqdm in c:\\users\\shri0\\anaconda3\\lib\\site-packages (from gdown) (4.64.1)\n",
      "Requirement already satisfied: requests[socks] in c:\\users\\shri0\\anaconda3\\lib\\site-packages (from gdown) (2.28.1)\n",
      "Requirement already satisfied: six in c:\\users\\shri0\\anaconda3\\lib\\site-packages (from gdown) (1.16.0)\n",
      "Requirement already satisfied: filelock in c:\\users\\shri0\\anaconda3\\lib\\site-packages (from gdown) (3.9.0)\n",
      "Requirement already satisfied: beautifulsoup4 in c:\\users\\shri0\\anaconda3\\lib\\site-packages (from gdown) (4.11.1)\n",
      "Requirement already satisfied: soupsieve>1.2 in c:\\users\\shri0\\anaconda3\\lib\\site-packages (from beautifulsoup4->gdown) (2.3.2.post1)\n",
      "Requirement already satisfied: urllib3<1.27,>=1.21.1 in c:\\users\\shri0\\anaconda3\\lib\\site-packages (from requests[socks]->gdown) (1.26.14)\n",
      "Requirement already satisfied: idna<4,>=2.5 in c:\\users\\shri0\\anaconda3\\lib\\site-packages (from requests[socks]->gdown) (3.4)\n",
      "Requirement already satisfied: charset-normalizer<3,>=2 in c:\\users\\shri0\\anaconda3\\lib\\site-packages (from requests[socks]->gdown) (2.0.4)\n",
      "Requirement already satisfied: certifi>=2017.4.17 in c:\\users\\shri0\\anaconda3\\lib\\site-packages (from requests[socks]->gdown) (2022.12.7)\n",
      "Requirement already satisfied: PySocks!=1.5.7,>=1.5.6 in c:\\users\\shri0\\anaconda3\\lib\\site-packages (from requests[socks]->gdown) (1.7.1)\n",
      "Requirement already satisfied: colorama in c:\\users\\shri0\\anaconda3\\lib\\site-packages (from tqdm->gdown) (0.4.6)\n",
      "Installing collected packages: gdown\n",
      "Successfully installed gdown-4.7.1\n"
     ]
    },
    {
     "name": "stderr",
     "output_type": "stream",
     "text": [
      "WARNING: Ignoring invalid distribution -rotobuf (c:\\users\\shri0\\anaconda3\\lib\\site-packages)\n",
      "WARNING: Ignoring invalid distribution -rotobuf (c:\\users\\shri0\\anaconda3\\lib\\site-packages)\n",
      "WARNING: Ignoring invalid distribution -rotobuf (c:\\users\\shri0\\anaconda3\\lib\\site-packages)\n",
      "WARNING: Ignoring invalid distribution -rotobuf (c:\\users\\shri0\\anaconda3\\lib\\site-packages)\n",
      "WARNING: Ignoring invalid distribution -rotobuf (c:\\users\\shri0\\anaconda3\\lib\\site-packages)\n",
      "WARNING: Ignoring invalid distribution -rotobuf (c:\\users\\shri0\\anaconda3\\lib\\site-packages)\n",
      "WARNING: Ignoring invalid distribution -rotobuf (c:\\users\\shri0\\anaconda3\\lib\\site-packages)\n"
     ]
    }
   ],
   "source": [
    "!pip install gdown"
   ]
  },
  {
   "cell_type": "code",
   "execution_count": 2,
   "id": "b568d686-67c6-4290-8eee-537622b5211e",
   "metadata": {},
   "outputs": [],
   "source": [
    "import pandas as pd"
   ]
  },
  {
   "cell_type": "code",
   "execution_count": 3,
   "id": "85ceda33-a70c-4e5e-aaac-95b27009af2d",
   "metadata": {
    "jupyter": {
     "source_hidden": true
    },
    "tags": []
   },
   "outputs": [],
   "source": [
    "# https://drive.google.com/file/d/1RP-91x6TL8-w58zrFqWWrbR4A2aApw_l/view?usp=sharing\n",
    "# https://drive.google.com/file/d/1pqTkifFU7VRJ1rGfAt9V3bZXpKBb-Ij4/view?usp=drive_link\n",
    "# https://drive.google.com/file/d/1CQcGCeLCdEOtlpOG0ZeWG4MJLzXj8zMA/view?usp=drive_link\n",
    "# https://drive.google.com/file/d/1wzqux1mIJCwjql2u01a12BDlCd31kU6y/view?usp=drive_link\n",
    "# https://drive.google.com/file/d/1odt32d0OSfEmUtNGACT84auUG45oXO1b/view?usp=drive_link\n",
    "# https://drive.google.com/file/d/1x21jPXxrY6xU4IbOxjPQRXRlcj81IZV7/view?usp=drive_link"
   ]
  },
  {
   "cell_type": "code",
   "execution_count": 4,
   "id": "e4a00ef9-b76d-4b5c-9413-a8b3d2548780",
   "metadata": {
    "collapsed": true,
    "jupyter": {
     "outputs_hidden": true
    },
    "tags": []
   },
   "outputs": [
    {
     "name": "stderr",
     "output_type": "stream",
     "text": [
      "Downloading...\n",
      "From: https://drive.google.com/uc?id=1RP-91x6TL8-w58zrFqWWrbR4A2aApw_l\n",
      "To: D:\\N Renotte DL Projects\\Own\\flipkart-reviews-extract\\final_compress\\headphones_on_ear.csv\n",
      "\n",
      "  0%|          | 0.00/855k [00:00<?, ?B/s]\n",
      " 61%|######1   | 524k/855k [00:00<00:00, 1.43MB/s]\n",
      "100%|##########| 855k/855k [00:00<00:00, 1.86MB/s]\n",
      "Downloading...\n",
      "From: https://drive.google.com/uc?id=1pqTkifFU7VRJ1rGfAt9V3bZXpKBb-Ij4\n",
      "To: D:\\N Renotte DL Projects\\Own\\flipkart-reviews-extract\\final_compress\\Tablets.csv\n",
      "\n",
      "  0%|          | 0.00/3.69M [00:00<?, ?B/s]\n",
      " 14%|#4        | 524k/3.69M [00:00<00:02, 1.30MB/s]\n",
      " 43%|####2     | 1.57M/3.69M [00:00<00:00, 3.56MB/s]\n",
      " 85%|########5 | 3.15M/3.69M [00:00<00:00, 5.65MB/s]\n",
      "100%|##########| 3.69M/3.69M [00:00<00:00, 4.84MB/s]\n",
      "Downloading...\n",
      "From: https://drive.google.com/uc?id=1CQcGCeLCdEOtlpOG0ZeWG4MJLzXj8zMA\n",
      "To: D:\\N Renotte DL Projects\\Own\\flipkart-reviews-extract\\final_compress\\air_conditioners_reviews.csv\n",
      "\n",
      "  0%|          | 0.00/2.77M [00:00<?, ?B/s]\n",
      " 19%|#8        | 524k/2.77M [00:00<00:01, 1.34MB/s]\n",
      " 76%|#######5  | 2.10M/2.77M [00:00<00:00, 4.97MB/s]\n",
      "100%|##########| 2.77M/2.77M [00:00<00:00, 3.97MB/s]\n",
      "Downloading...\n",
      "From: https://drive.google.com/uc?id=1wzqux1mIJCwjql2u01a12BDlCd31kU6y\n",
      "To: D:\\N Renotte DL Projects\\Own\\flipkart-reviews-extract\\final_compress\\laptops_flipkart_reviews(Drishti).csv\n",
      "\n",
      "  0%|          | 0.00/1.19M [00:00<?, ?B/s]\n",
      " 44%|####3     | 524k/1.19M [00:00<00:00, 1.42MB/s]\n",
      "100%|##########| 1.19M/1.19M [00:00<00:00, 2.65MB/s]\n",
      "Downloading...\n",
      "From: https://drive.google.com/uc?id=1odt32d0OSfEmUtNGACT84auUG45oXO1b\n",
      "To: D:\\N Renotte DL Projects\\Own\\flipkart-reviews-extract\\final_compress\\Smart Tv reviews by Lakshay Chaudhary.csv\n",
      "\n",
      "  0%|          | 0.00/4.80M [00:00<?, ?B/s]\n",
      " 11%|#         | 524k/4.80M [00:00<00:03, 1.14MB/s]\n",
      " 33%|###2      | 1.57M/4.80M [00:00<00:00, 3.33MB/s]\n",
      " 66%|######5   | 3.15M/4.80M [00:00<00:00, 3.96MB/s]\n",
      " 98%|#########8| 4.72M/4.80M [00:01<00:00, 5.67MB/s]\n",
      "100%|##########| 4.80M/4.80M [00:01<00:00, 4.55MB/s]\n",
      "Downloading...\n",
      "From: https://drive.google.com/uc?id=1x21jPXxrY6xU4IbOxjPQRXRlcj81IZV7\n",
      "To: D:\\N Renotte DL Projects\\Own\\flipkart-reviews-extract\\final_compress\\smartphones reviews Arun Sharma.csv\n",
      "\n",
      "  0%|          | 0.00/2.90M [00:00<?, ?B/s]\n",
      " 18%|#8        | 524k/2.90M [00:00<00:02, 845kB/s]\n",
      " 54%|#####4    | 1.57M/2.90M [00:00<00:00, 2.53MB/s]\n",
      "100%|##########| 2.90M/2.90M [00:00<00:00, 4.68MB/s]\n",
      "100%|##########| 2.90M/2.90M [00:00<00:00, 3.42MB/s]\n"
     ]
    }
   ],
   "source": [
    "!gdown 1RP-91x6TL8-w58zrFqWWrbR4A2aApw_l\n",
    "!gdown 1pqTkifFU7VRJ1rGfAt9V3bZXpKBb-Ij4\n",
    "!gdown 1CQcGCeLCdEOtlpOG0ZeWG4MJLzXj8zMA\n",
    "!gdown 1wzqux1mIJCwjql2u01a12BDlCd31kU6y\n",
    "!gdown 1odt32d0OSfEmUtNGACT84auUG45oXO1b\n",
    "!gdown 1x21jPXxrY6xU4IbOxjPQRXRlcj81IZV7"
   ]
  },
  {
   "cell_type": "code",
   "execution_count": 12,
   "id": "6eada857-22dd-438a-98de-9e26d75fa79a",
   "metadata": {
    "collapsed": true,
    "jupyter": {
     "outputs_hidden": true,
     "source_hidden": true
    },
    "tags": []
   },
   "outputs": [
    {
     "data": {
      "text/html": [
       "<div>\n",
       "<style scoped>\n",
       "    .dataframe tbody tr th:only-of-type {\n",
       "        vertical-align: middle;\n",
       "    }\n",
       "\n",
       "    .dataframe tbody tr th {\n",
       "        vertical-align: top;\n",
       "    }\n",
       "\n",
       "    .dataframe thead th {\n",
       "        text-align: right;\n",
       "    }\n",
       "</style>\n",
       "<table border=\"1\" class=\"dataframe\">\n",
       "  <thead>\n",
       "    <tr style=\"text-align: right;\">\n",
       "      <th></th>\n",
       "      <th>title</th>\n",
       "      <th>description</th>\n",
       "      <th>reviews</th>\n",
       "      <th>ratings</th>\n",
       "    </tr>\n",
       "  </thead>\n",
       "  <tbody>\n",
       "    <tr>\n",
       "      <th>0</th>\n",
       "      <td>Voltas 1.5 Ton 3 Star Split Inverter AC  - Whi...</td>\n",
       "      <td>NaN</td>\n",
       "      <td>Review after 1 month.Best in performance!Pros-...</td>\n",
       "      <td>5</td>\n",
       "    </tr>\n",
       "    <tr>\n",
       "      <th>1</th>\n",
       "      <td>Voltas 1.5 Ton 3 Star Split Inverter AC  - Whi...</td>\n",
       "      <td>NaN</td>\n",
       "      <td>Voltas - Damn good AC for the 10x10 room , it ...</td>\n",
       "      <td>5</td>\n",
       "    </tr>\n",
       "  </tbody>\n",
       "</table>\n",
       "</div>"
      ],
      "text/plain": [
       "                                               title description  \\\n",
       "0  Voltas 1.5 Ton 3 Star Split Inverter AC  - Whi...         NaN   \n",
       "1  Voltas 1.5 Ton 3 Star Split Inverter AC  - Whi...         NaN   \n",
       "\n",
       "                                             reviews  ratings  \n",
       "0  Review after 1 month.Best in performance!Pros-...        5  \n",
       "1  Voltas - Damn good AC for the 10x10 room , it ...        5  "
      ]
     },
     "execution_count": 12,
     "metadata": {},
     "output_type": "execute_result"
    }
   ],
   "source": [
    "ac = pd.read_csv('air_conditioners_reviews.csv')\n",
    "ac.head(2)"
   ]
  },
  {
   "cell_type": "code",
   "execution_count": 14,
   "id": "77dafc74-94a7-450b-b45f-c97040da6899",
   "metadata": {
    "jupyter": {
     "source_hidden": true
    },
    "tags": []
   },
   "outputs": [],
   "source": [
    "ac = ac[['reviews', 'ratings']]"
   ]
  },
  {
   "cell_type": "code",
   "execution_count": 15,
   "id": "4ce553ad-a745-43ae-8ae3-3b83800de2fe",
   "metadata": {
    "collapsed": true,
    "jupyter": {
     "outputs_hidden": true,
     "source_hidden": true
    },
    "tags": []
   },
   "outputs": [
    {
     "data": {
      "text/html": [
       "<div>\n",
       "<style scoped>\n",
       "    .dataframe tbody tr th:only-of-type {\n",
       "        vertical-align: middle;\n",
       "    }\n",
       "\n",
       "    .dataframe tbody tr th {\n",
       "        vertical-align: top;\n",
       "    }\n",
       "\n",
       "    .dataframe thead th {\n",
       "        text-align: right;\n",
       "    }\n",
       "</style>\n",
       "<table border=\"1\" class=\"dataframe\">\n",
       "  <thead>\n",
       "    <tr style=\"text-align: right;\">\n",
       "      <th></th>\n",
       "      <th>title</th>\n",
       "      <th>description</th>\n",
       "      <th>reviews</th>\n",
       "      <th>ratings</th>\n",
       "    </tr>\n",
       "  </thead>\n",
       "  <tbody>\n",
       "    <tr>\n",
       "      <th>0</th>\n",
       "      <td>boAt Rockerz 510 Super Extra Bass Bluetooth He...</td>\n",
       "      <td>If you are looking for an efficient wireless h...</td>\n",
       "      <td>My one request🙏 plz to all buyers..plz dont re...</td>\n",
       "      <td>5</td>\n",
       "    </tr>\n",
       "    <tr>\n",
       "      <th>1</th>\n",
       "      <td>boAt Rockerz 510 Super Extra Bass Bluetooth He...</td>\n",
       "      <td>If you are looking for an efficient wireless h...</td>\n",
       "      <td>genuine review1. sound quality : no issue valu...</td>\n",
       "      <td>5</td>\n",
       "    </tr>\n",
       "  </tbody>\n",
       "</table>\n",
       "</div>"
      ],
      "text/plain": [
       "                                               title  \\\n",
       "0  boAt Rockerz 510 Super Extra Bass Bluetooth He...   \n",
       "1  boAt Rockerz 510 Super Extra Bass Bluetooth He...   \n",
       "\n",
       "                                         description  \\\n",
       "0  If you are looking for an efficient wireless h...   \n",
       "1  If you are looking for an efficient wireless h...   \n",
       "\n",
       "                                             reviews  ratings  \n",
       "0  My one request🙏 plz to all buyers..plz dont re...        5  \n",
       "1  genuine review1. sound quality : no issue valu...        5  "
      ]
     },
     "execution_count": 15,
     "metadata": {},
     "output_type": "execute_result"
    }
   ],
   "source": [
    "hdphn = pd.read_csv('headphones_on_ear.csv')\n",
    "hdphn.head(2)"
   ]
  },
  {
   "cell_type": "code",
   "execution_count": 16,
   "id": "7e5b83f6-f5db-480c-8dec-dd4b3dd6429d",
   "metadata": {
    "collapsed": true,
    "jupyter": {
     "outputs_hidden": true,
     "source_hidden": true
    },
    "tags": []
   },
   "outputs": [
    {
     "data": {
      "text/html": [
       "<div>\n",
       "<style scoped>\n",
       "    .dataframe tbody tr th:only-of-type {\n",
       "        vertical-align: middle;\n",
       "    }\n",
       "\n",
       "    .dataframe tbody tr th {\n",
       "        vertical-align: top;\n",
       "    }\n",
       "\n",
       "    .dataframe thead th {\n",
       "        text-align: right;\n",
       "    }\n",
       "</style>\n",
       "<table border=\"1\" class=\"dataframe\">\n",
       "  <thead>\n",
       "    <tr style=\"text-align: right;\">\n",
       "      <th></th>\n",
       "      <th>reviews</th>\n",
       "      <th>ratings</th>\n",
       "    </tr>\n",
       "  </thead>\n",
       "  <tbody>\n",
       "    <tr>\n",
       "      <th>0</th>\n",
       "      <td>My one request🙏 plz to all buyers..plz dont re...</td>\n",
       "      <td>5</td>\n",
       "    </tr>\n",
       "    <tr>\n",
       "      <th>1</th>\n",
       "      <td>genuine review1. sound quality : no issue valu...</td>\n",
       "      <td>5</td>\n",
       "    </tr>\n",
       "  </tbody>\n",
       "</table>\n",
       "</div>"
      ],
      "text/plain": [
       "                                             reviews  ratings\n",
       "0  My one request🙏 plz to all buyers..plz dont re...        5\n",
       "1  genuine review1. sound quality : no issue valu...        5"
      ]
     },
     "execution_count": 16,
     "metadata": {},
     "output_type": "execute_result"
    }
   ],
   "source": [
    "hdphn = hdphn[['reviews', 'ratings']]\n",
    "hdphn.head(2)"
   ]
  },
  {
   "cell_type": "code",
   "execution_count": 17,
   "id": "c4e10a72-b786-4670-9aef-9049f975b799",
   "metadata": {
    "collapsed": true,
    "jupyter": {
     "outputs_hidden": true,
     "source_hidden": true
    },
    "tags": []
   },
   "outputs": [
    {
     "data": {
      "text/html": [
       "<div>\n",
       "<style scoped>\n",
       "    .dataframe tbody tr th:only-of-type {\n",
       "        vertical-align: middle;\n",
       "    }\n",
       "\n",
       "    .dataframe tbody tr th {\n",
       "        vertical-align: top;\n",
       "    }\n",
       "\n",
       "    .dataframe thead th {\n",
       "        text-align: right;\n",
       "    }\n",
       "</style>\n",
       "<table border=\"1\" class=\"dataframe\">\n",
       "  <thead>\n",
       "    <tr style=\"text-align: right;\">\n",
       "      <th></th>\n",
       "      <th>title</th>\n",
       "      <th>description</th>\n",
       "      <th>reviews</th>\n",
       "      <th>ratings</th>\n",
       "    </tr>\n",
       "  </thead>\n",
       "  <tbody>\n",
       "    <tr>\n",
       "      <th>0</th>\n",
       "      <td>ASUS Vivobook 15 Core i3 11th Gen - (8 GB/512 ...</td>\n",
       "      <td>The outstanding Asus VivoBook 15 laptop, creat...</td>\n",
       "      <td>I had a great expectation with this laptopBut ...</td>\n",
       "      <td>1</td>\n",
       "    </tr>\n",
       "    <tr>\n",
       "      <th>1</th>\n",
       "      <td>ASUS Vivobook 15 Core i3 11th Gen - (8 GB/512 ...</td>\n",
       "      <td>The outstanding Asus VivoBook 15 laptop, creat...</td>\n",
       "      <td>Performance was amezing...🏆Battery drained ver...</td>\n",
       "      <td>5</td>\n",
       "    </tr>\n",
       "  </tbody>\n",
       "</table>\n",
       "</div>"
      ],
      "text/plain": [
       "                                               title  \\\n",
       "0  ASUS Vivobook 15 Core i3 11th Gen - (8 GB/512 ...   \n",
       "1  ASUS Vivobook 15 Core i3 11th Gen - (8 GB/512 ...   \n",
       "\n",
       "                                         description  \\\n",
       "0  The outstanding Asus VivoBook 15 laptop, creat...   \n",
       "1  The outstanding Asus VivoBook 15 laptop, creat...   \n",
       "\n",
       "                                             reviews  ratings  \n",
       "0  I had a great expectation with this laptopBut ...        1  \n",
       "1  Performance was amezing...🏆Battery drained ver...        5  "
      ]
     },
     "execution_count": 17,
     "metadata": {},
     "output_type": "execute_result"
    }
   ],
   "source": [
    "lp = pd.read_csv('laptops_flipkart_reviews(Drishti).csv')\n",
    "lp.head(2)"
   ]
  },
  {
   "cell_type": "code",
   "execution_count": 18,
   "id": "1c2e05c2-c9fa-4968-bf52-8278f7ecf477",
   "metadata": {
    "collapsed": true,
    "jupyter": {
     "outputs_hidden": true,
     "source_hidden": true
    },
    "tags": []
   },
   "outputs": [
    {
     "data": {
      "text/html": [
       "<div>\n",
       "<style scoped>\n",
       "    .dataframe tbody tr th:only-of-type {\n",
       "        vertical-align: middle;\n",
       "    }\n",
       "\n",
       "    .dataframe tbody tr th {\n",
       "        vertical-align: top;\n",
       "    }\n",
       "\n",
       "    .dataframe thead th {\n",
       "        text-align: right;\n",
       "    }\n",
       "</style>\n",
       "<table border=\"1\" class=\"dataframe\">\n",
       "  <thead>\n",
       "    <tr style=\"text-align: right;\">\n",
       "      <th></th>\n",
       "      <th>reviews</th>\n",
       "      <th>ratings</th>\n",
       "    </tr>\n",
       "  </thead>\n",
       "  <tbody>\n",
       "    <tr>\n",
       "      <th>0</th>\n",
       "      <td>I had a great expectation with this laptopBut ...</td>\n",
       "      <td>1</td>\n",
       "    </tr>\n",
       "    <tr>\n",
       "      <th>1</th>\n",
       "      <td>Performance was amezing...🏆Battery drained ver...</td>\n",
       "      <td>5</td>\n",
       "    </tr>\n",
       "  </tbody>\n",
       "</table>\n",
       "</div>"
      ],
      "text/plain": [
       "                                             reviews  ratings\n",
       "0  I had a great expectation with this laptopBut ...        1\n",
       "1  Performance was amezing...🏆Battery drained ver...        5"
      ]
     },
     "execution_count": 18,
     "metadata": {},
     "output_type": "execute_result"
    }
   ],
   "source": [
    "lp = lp[['reviews', 'ratings']]\n",
    "lp.head(2)"
   ]
  },
  {
   "cell_type": "code",
   "execution_count": 19,
   "id": "1ecb3997-b45f-400d-baf2-7d1977e2e7c5",
   "metadata": {
    "collapsed": true,
    "jupyter": {
     "outputs_hidden": true,
     "source_hidden": true
    },
    "tags": []
   },
   "outputs": [
    {
     "data": {
      "text/html": [
       "<div>\n",
       "<style scoped>\n",
       "    .dataframe tbody tr th:only-of-type {\n",
       "        vertical-align: middle;\n",
       "    }\n",
       "\n",
       "    .dataframe tbody tr th {\n",
       "        vertical-align: top;\n",
       "    }\n",
       "\n",
       "    .dataframe thead th {\n",
       "        text-align: right;\n",
       "    }\n",
       "</style>\n",
       "<table border=\"1\" class=\"dataframe\">\n",
       "  <thead>\n",
       "    <tr style=\"text-align: right;\">\n",
       "      <th></th>\n",
       "      <th>Unnamed: 0</th>\n",
       "      <th>title</th>\n",
       "      <th>description</th>\n",
       "      <th>reviews</th>\n",
       "      <th>ratings</th>\n",
       "    </tr>\n",
       "  </thead>\n",
       "  <tbody>\n",
       "    <tr>\n",
       "      <th>0</th>\n",
       "      <td>0</td>\n",
       "      <td>Mi 5A 80 cm (32 inch) HD Ready LED Smart Andro...</td>\n",
       "      <td>You can enjoy your favourite movies, catch up ...</td>\n",
       "      <td>First i have to thanks to Flipkart delivered s...</td>\n",
       "      <td>5</td>\n",
       "    </tr>\n",
       "    <tr>\n",
       "      <th>1</th>\n",
       "      <td>1</td>\n",
       "      <td>Mi 5A 80 cm (32 inch) HD Ready LED Smart Andro...</td>\n",
       "      <td>You can enjoy your favourite movies, catch up ...</td>\n",
       "      <td>it very nice mi tv good condition valuable for...</td>\n",
       "      <td>5</td>\n",
       "    </tr>\n",
       "  </tbody>\n",
       "</table>\n",
       "</div>"
      ],
      "text/plain": [
       "   Unnamed: 0                                              title  \\\n",
       "0           0  Mi 5A 80 cm (32 inch) HD Ready LED Smart Andro...   \n",
       "1           1  Mi 5A 80 cm (32 inch) HD Ready LED Smart Andro...   \n",
       "\n",
       "                                         description  \\\n",
       "0  You can enjoy your favourite movies, catch up ...   \n",
       "1  You can enjoy your favourite movies, catch up ...   \n",
       "\n",
       "                                             reviews  ratings  \n",
       "0  First i have to thanks to Flipkart delivered s...        5  \n",
       "1  it very nice mi tv good condition valuable for...        5  "
      ]
     },
     "execution_count": 19,
     "metadata": {},
     "output_type": "execute_result"
    }
   ],
   "source": [
    "tv = pd.read_csv('Smart Tv reviews by Lakshay Chaudhary.csv')\n",
    "tv.head(2)"
   ]
  },
  {
   "cell_type": "code",
   "execution_count": 20,
   "id": "f22dd17a-afe0-4eba-8507-6c3e44431deb",
   "metadata": {
    "collapsed": true,
    "jupyter": {
     "outputs_hidden": true,
     "source_hidden": true
    },
    "tags": []
   },
   "outputs": [
    {
     "data": {
      "text/html": [
       "<div>\n",
       "<style scoped>\n",
       "    .dataframe tbody tr th:only-of-type {\n",
       "        vertical-align: middle;\n",
       "    }\n",
       "\n",
       "    .dataframe tbody tr th {\n",
       "        vertical-align: top;\n",
       "    }\n",
       "\n",
       "    .dataframe thead th {\n",
       "        text-align: right;\n",
       "    }\n",
       "</style>\n",
       "<table border=\"1\" class=\"dataframe\">\n",
       "  <thead>\n",
       "    <tr style=\"text-align: right;\">\n",
       "      <th></th>\n",
       "      <th>reviews</th>\n",
       "      <th>ratings</th>\n",
       "    </tr>\n",
       "  </thead>\n",
       "  <tbody>\n",
       "    <tr>\n",
       "      <th>0</th>\n",
       "      <td>First i have to thanks to Flipkart delivered s...</td>\n",
       "      <td>5</td>\n",
       "    </tr>\n",
       "    <tr>\n",
       "      <th>1</th>\n",
       "      <td>it very nice mi tv good condition valuable for...</td>\n",
       "      <td>5</td>\n",
       "    </tr>\n",
       "  </tbody>\n",
       "</table>\n",
       "</div>"
      ],
      "text/plain": [
       "                                             reviews  ratings\n",
       "0  First i have to thanks to Flipkart delivered s...        5\n",
       "1  it very nice mi tv good condition valuable for...        5"
      ]
     },
     "execution_count": 20,
     "metadata": {},
     "output_type": "execute_result"
    }
   ],
   "source": [
    "tv = tv[['reviews', 'ratings']]\n",
    "tv.head(2)"
   ]
  },
  {
   "cell_type": "code",
   "execution_count": 21,
   "id": "5256de6e-a394-4f36-bb95-6f5242b7c991",
   "metadata": {
    "collapsed": true,
    "jupyter": {
     "outputs_hidden": true,
     "source_hidden": true
    },
    "tags": []
   },
   "outputs": [
    {
     "data": {
      "text/html": [
       "<div>\n",
       "<style scoped>\n",
       "    .dataframe tbody tr th:only-of-type {\n",
       "        vertical-align: middle;\n",
       "    }\n",
       "\n",
       "    .dataframe tbody tr th {\n",
       "        vertical-align: top;\n",
       "    }\n",
       "\n",
       "    .dataframe thead th {\n",
       "        text-align: right;\n",
       "    }\n",
       "</style>\n",
       "<table border=\"1\" class=\"dataframe\">\n",
       "  <thead>\n",
       "    <tr style=\"text-align: right;\">\n",
       "      <th></th>\n",
       "      <th>Unnamed: 0</th>\n",
       "      <th>title</th>\n",
       "      <th>description</th>\n",
       "      <th>reviews</th>\n",
       "      <th>ratings</th>\n",
       "    </tr>\n",
       "  </thead>\n",
       "  <tbody>\n",
       "    <tr>\n",
       "      <th>0</th>\n",
       "      <td>0</td>\n",
       "      <td>POCO C55 (Power Black, 128 GB)  (6 GB RAM)</td>\n",
       "      <td>The POCO C55 smartphone features a powerful Me...</td>\n",
       "      <td>The phone is good. But when you play heavy gam...</td>\n",
       "      <td>4</td>\n",
       "    </tr>\n",
       "    <tr>\n",
       "      <th>1</th>\n",
       "      <td>1</td>\n",
       "      <td>POCO C55 (Power Black, 128 GB)  (6 GB RAM)</td>\n",
       "      <td>The POCO C55 smartphone features a powerful Me...</td>\n",
       "      <td>Very good mobile.. better speed. awesome CAMER...</td>\n",
       "      <td>5</td>\n",
       "    </tr>\n",
       "  </tbody>\n",
       "</table>\n",
       "</div>"
      ],
      "text/plain": [
       "   Unnamed: 0                                       title  \\\n",
       "0           0  POCO C55 (Power Black, 128 GB)  (6 GB RAM)   \n",
       "1           1  POCO C55 (Power Black, 128 GB)  (6 GB RAM)   \n",
       "\n",
       "                                         description  \\\n",
       "0  The POCO C55 smartphone features a powerful Me...   \n",
       "1  The POCO C55 smartphone features a powerful Me...   \n",
       "\n",
       "                                             reviews  ratings  \n",
       "0  The phone is good. But when you play heavy gam...        4  \n",
       "1  Very good mobile.. better speed. awesome CAMER...        5  "
      ]
     },
     "execution_count": 21,
     "metadata": {},
     "output_type": "execute_result"
    }
   ],
   "source": [
    "phn = pd.read_csv('smartphones reviews Arun Sharma.csv')\n",
    "phn.head(2)"
   ]
  },
  {
   "cell_type": "code",
   "execution_count": 22,
   "id": "dc2b3ec9-75f1-44df-aa99-99caaafb893f",
   "metadata": {
    "collapsed": true,
    "jupyter": {
     "outputs_hidden": true,
     "source_hidden": true
    },
    "tags": []
   },
   "outputs": [
    {
     "data": {
      "text/html": [
       "<div>\n",
       "<style scoped>\n",
       "    .dataframe tbody tr th:only-of-type {\n",
       "        vertical-align: middle;\n",
       "    }\n",
       "\n",
       "    .dataframe tbody tr th {\n",
       "        vertical-align: top;\n",
       "    }\n",
       "\n",
       "    .dataframe thead th {\n",
       "        text-align: right;\n",
       "    }\n",
       "</style>\n",
       "<table border=\"1\" class=\"dataframe\">\n",
       "  <thead>\n",
       "    <tr style=\"text-align: right;\">\n",
       "      <th></th>\n",
       "      <th>reviews</th>\n",
       "      <th>ratings</th>\n",
       "    </tr>\n",
       "  </thead>\n",
       "  <tbody>\n",
       "    <tr>\n",
       "      <th>0</th>\n",
       "      <td>The phone is good. But when you play heavy gam...</td>\n",
       "      <td>4</td>\n",
       "    </tr>\n",
       "    <tr>\n",
       "      <th>1</th>\n",
       "      <td>Very good mobile.. better speed. awesome CAMER...</td>\n",
       "      <td>5</td>\n",
       "    </tr>\n",
       "  </tbody>\n",
       "</table>\n",
       "</div>"
      ],
      "text/plain": [
       "                                             reviews  ratings\n",
       "0  The phone is good. But when you play heavy gam...        4\n",
       "1  Very good mobile.. better speed. awesome CAMER...        5"
      ]
     },
     "execution_count": 22,
     "metadata": {},
     "output_type": "execute_result"
    }
   ],
   "source": [
    "phn = phn[['reviews', 'ratings']]\n",
    "phn.head(2)"
   ]
  },
  {
   "cell_type": "code",
   "execution_count": 23,
   "id": "bfb4303b-2fe0-43d1-8a65-eed7b9f15346",
   "metadata": {
    "collapsed": true,
    "jupyter": {
     "outputs_hidden": true,
     "source_hidden": true
    },
    "tags": []
   },
   "outputs": [
    {
     "data": {
      "text/html": [
       "<div>\n",
       "<style scoped>\n",
       "    .dataframe tbody tr th:only-of-type {\n",
       "        vertical-align: middle;\n",
       "    }\n",
       "\n",
       "    .dataframe tbody tr th {\n",
       "        vertical-align: top;\n",
       "    }\n",
       "\n",
       "    .dataframe thead th {\n",
       "        text-align: right;\n",
       "    }\n",
       "</style>\n",
       "<table border=\"1\" class=\"dataframe\">\n",
       "  <thead>\n",
       "    <tr style=\"text-align: right;\">\n",
       "      <th></th>\n",
       "      <th>Unnamed: 0</th>\n",
       "      <th>title</th>\n",
       "      <th>description</th>\n",
       "      <th>reviews</th>\n",
       "      <th>ratings</th>\n",
       "    </tr>\n",
       "  </thead>\n",
       "  <tbody>\n",
       "    <tr>\n",
       "      <th>0</th>\n",
       "      <td>0</td>\n",
       "      <td>realme Pad Mini 4 GB RAM 64 GB ROM 8.7 inch wi...</td>\n",
       "      <td>Make your long travel journeys or business tri...</td>\n",
       "      <td>I am Fully satisfied with order purchased on F...</td>\n",
       "      <td>5</td>\n",
       "    </tr>\n",
       "    <tr>\n",
       "      <th>1</th>\n",
       "      <td>1</td>\n",
       "      <td>realme Pad Mini 4 GB RAM 64 GB ROM 8.7 inch wi...</td>\n",
       "      <td>Make your long travel journeys or business tri...</td>\n",
       "      <td>Its an overall perfect value product at this p...</td>\n",
       "      <td>4</td>\n",
       "    </tr>\n",
       "  </tbody>\n",
       "</table>\n",
       "</div>"
      ],
      "text/plain": [
       "   Unnamed: 0                                              title  \\\n",
       "0           0  realme Pad Mini 4 GB RAM 64 GB ROM 8.7 inch wi...   \n",
       "1           1  realme Pad Mini 4 GB RAM 64 GB ROM 8.7 inch wi...   \n",
       "\n",
       "                                         description  \\\n",
       "0  Make your long travel journeys or business tri...   \n",
       "1  Make your long travel journeys or business tri...   \n",
       "\n",
       "                                             reviews  ratings  \n",
       "0  I am Fully satisfied with order purchased on F...        5  \n",
       "1  Its an overall perfect value product at this p...        4  "
      ]
     },
     "execution_count": 23,
     "metadata": {},
     "output_type": "execute_result"
    }
   ],
   "source": [
    "tb = pd.read_csv('Tablets.csv')\n",
    "tb.head(2)"
   ]
  },
  {
   "cell_type": "code",
   "execution_count": 24,
   "id": "b01835c0-4749-4795-8519-f4b5e6bc5cf3",
   "metadata": {
    "collapsed": true,
    "jupyter": {
     "outputs_hidden": true,
     "source_hidden": true
    },
    "tags": []
   },
   "outputs": [
    {
     "data": {
      "text/html": [
       "<div>\n",
       "<style scoped>\n",
       "    .dataframe tbody tr th:only-of-type {\n",
       "        vertical-align: middle;\n",
       "    }\n",
       "\n",
       "    .dataframe tbody tr th {\n",
       "        vertical-align: top;\n",
       "    }\n",
       "\n",
       "    .dataframe thead th {\n",
       "        text-align: right;\n",
       "    }\n",
       "</style>\n",
       "<table border=\"1\" class=\"dataframe\">\n",
       "  <thead>\n",
       "    <tr style=\"text-align: right;\">\n",
       "      <th></th>\n",
       "      <th>reviews</th>\n",
       "      <th>ratings</th>\n",
       "    </tr>\n",
       "  </thead>\n",
       "  <tbody>\n",
       "    <tr>\n",
       "      <th>0</th>\n",
       "      <td>I am Fully satisfied with order purchased on F...</td>\n",
       "      <td>5</td>\n",
       "    </tr>\n",
       "    <tr>\n",
       "      <th>1</th>\n",
       "      <td>Its an overall perfect value product at this p...</td>\n",
       "      <td>4</td>\n",
       "    </tr>\n",
       "  </tbody>\n",
       "</table>\n",
       "</div>"
      ],
      "text/plain": [
       "                                             reviews  ratings\n",
       "0  I am Fully satisfied with order purchased on F...        5\n",
       "1  Its an overall perfect value product at this p...        4"
      ]
     },
     "execution_count": 24,
     "metadata": {},
     "output_type": "execute_result"
    }
   ],
   "source": [
    "tb = tb[['reviews', 'ratings']]\n",
    "tb.head(2)"
   ]
  },
  {
   "cell_type": "code",
   "execution_count": 25,
   "id": "38345c66-a5f3-402f-8bf0-fb257dbf0f2b",
   "metadata": {},
   "outputs": [
    {
     "data": {
      "text/plain": [
       "(37850, 2)"
      ]
     },
     "execution_count": 25,
     "metadata": {},
     "output_type": "execute_result"
    }
   ],
   "source": [
    "final_df = pd.concat([ac, hdphn, lp, tv, phn, tb], ignore_index=True)\n",
    "final_df.shape"
   ]
  },
  {
   "cell_type": "code",
   "execution_count": 26,
   "id": "5e91a89f-911d-4c51-84a1-7a11520dee44",
   "metadata": {},
   "outputs": [
    {
     "data": {
      "text/plain": [
       "(4876, 2)"
      ]
     },
     "execution_count": 26,
     "metadata": {},
     "output_type": "execute_result"
    }
   ],
   "source": [
    "ac.shape"
   ]
  },
  {
   "cell_type": "code",
   "execution_count": 27,
   "id": "dc2f64a8-a88d-4273-9449-5c4939be3226",
   "metadata": {},
   "outputs": [
    {
     "data": {
      "text/plain": [
       "(2003, 2)"
      ]
     },
     "execution_count": 27,
     "metadata": {},
     "output_type": "execute_result"
    }
   ],
   "source": [
    "hdphn.shape"
   ]
  },
  {
   "cell_type": "code",
   "execution_count": 28,
   "id": "11233313-6562-442b-a5ee-7195b53012e1",
   "metadata": {},
   "outputs": [
    {
     "data": {
      "text/plain": [
       "(1831, 2)"
      ]
     },
     "execution_count": 28,
     "metadata": {},
     "output_type": "execute_result"
    }
   ],
   "source": [
    "lp.shape"
   ]
  },
  {
   "cell_type": "code",
   "execution_count": 29,
   "id": "4b8234af-9f40-417e-b134-28520801fe04",
   "metadata": {},
   "outputs": [
    {
     "data": {
      "text/plain": [
       "(19800, 2)"
      ]
     },
     "execution_count": 29,
     "metadata": {},
     "output_type": "execute_result"
    }
   ],
   "source": [
    "tv.shape"
   ]
  },
  {
   "cell_type": "code",
   "execution_count": 30,
   "id": "3829bc3f-f775-4fa9-b3a9-3d5ef820539a",
   "metadata": {},
   "outputs": [
    {
     "data": {
      "text/plain": [
       "(3950, 2)"
      ]
     },
     "execution_count": 30,
     "metadata": {},
     "output_type": "execute_result"
    }
   ],
   "source": [
    "phn.shape"
   ]
  },
  {
   "cell_type": "code",
   "execution_count": 31,
   "id": "928e8478-4a4b-4bfa-a27e-c8916386c426",
   "metadata": {},
   "outputs": [
    {
     "data": {
      "text/plain": [
       "(5390, 2)"
      ]
     },
     "execution_count": 31,
     "metadata": {},
     "output_type": "execute_result"
    }
   ],
   "source": [
    "tb.shape"
   ]
  },
  {
   "cell_type": "code",
   "execution_count": 32,
   "id": "3e80f0a6-c8f7-4c2c-86ad-c68c11223efd",
   "metadata": {},
   "outputs": [],
   "source": [
    "final_df.to_csv(r'final_data.csv', index=False, header=True)"
   ]
  },
  {
   "cell_type": "code",
   "execution_count": null,
   "id": "922a8408-3d42-4034-9e6c-a8591d8996d2",
   "metadata": {},
   "outputs": [],
   "source": []
  }
 ],
 "metadata": {
  "kernelspec": {
   "display_name": "Python 3 (ipykernel)",
   "language": "python",
   "name": "python3"
  },
  "language_info": {
   "codemirror_mode": {
    "name": "ipython",
    "version": 3
   },
   "file_extension": ".py",
   "mimetype": "text/x-python",
   "name": "python",
   "nbconvert_exporter": "python",
   "pygments_lexer": "ipython3",
   "version": "3.10.9"
  }
 },
 "nbformat": 4,
 "nbformat_minor": 5
}
